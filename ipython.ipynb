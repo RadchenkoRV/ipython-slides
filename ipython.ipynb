{
 "cells": [
  {
   "cell_type": "markdown",
   "metadata": {
    "slideshow": {
     "slide_type": "slide"
    }
   },
   "source": [
    "# iPython & Jupyter: 4 fun & profit\n",
    "\n",
    "Лев Тонких\n",
    "![Афиша-Рестораны](img/a-rest-logo-2.png)"
   ]
  },
  {
   "cell_type": "markdown",
   "metadata": {
    "collapsed": false,
    "scrolled": true,
    "slideshow": {
     "slide_type": "subslide"
    }
   },
   "source": [
    "![Good News](img/good_news.png)\n",
    "\n",
    "![Rambler&Co](http://rambler-co.ru/templates/images/logo_black.svg)"
   ]
  },
  {
   "cell_type": "markdown",
   "metadata": {
    "slideshow": {
     "slide_type": "subslide"
    }
   },
   "source": [
    "## Наши проекты"
   ]
  },
  {
   "cell_type": "markdown",
   "metadata": {
    "slideshow": {
     "slide_type": "fragment"
    }
   },
   "source": [
    "![Projects](img/projects.png)"
   ]
  },
  {
   "cell_type": "markdown",
   "metadata": {
    "slideshow": {
     "slide_type": "subslide"
    }
   },
   "source": [
    "## Лучшее 2015\n",
    "\n",
    "![App Store](http://icdn.lenta.ru/images/2015/12/09/22/20151209220150567/pic_79dcc90a8872deb3498ee442168dddeb.jpg)"
   ]
  },
  {
   "cell_type": "markdown",
   "metadata": {
    "slideshow": {
     "slide_type": "fragment"
    }
   },
   "source": [
    "> «Афиша-Рестораны» и «Рамблер.Почта» вошли в список **25 лучших приложений 2015 года** для iOS по версии редакции AppStore, официального онлайн-магазина Apple.\n",
    "У «Афиши-Рестораны» — 15-е место в рейтинге, «Рамблер.Почта» — на 24-м.\n",
    "\n",
    "> http://lenta.ru/news/2015/12/09/rambler/"
   ]
  },
  {
   "cell_type": "markdown",
   "metadata": {
    "slideshow": {
     "slide_type": "subslide"
    }
   },
   "source": [
    "## Контакты"
   ]
  },
  {
   "cell_type": "markdown",
   "metadata": {
    "slideshow": {
     "slide_type": "fragment"
    }
   },
   "source": [
    "<hr style=\"width: 100%; color: red; height: 1px; background-color:red;\" />\n",
    "\n",
    "<p class=\"lead\">\n",
    "В группе компаний Rambler&Co всегда есть <br>открытые вакансии для тех, кто хочет <br>профессионально расти и развиваться, занимаясь <br>тем, что по-настоящему нравится\n",
    "</p>\n",
    "\n",
    "<hr style=\"width: 100%; color: red; height: 1px; background-color:red;\" />\n",
    "\n",
    "✉️ **hr@rambler-co.ru**\n",
    "\n",
    "＆ [www.rambler-co.ru/jobs](www.rambler-co.ru/jobs)"
   ]
  },
  {
   "cell_type": "markdown",
   "metadata": {
    "slideshow": {
     "slide_type": "slide"
    }
   },
   "source": [
    "## В чем разница между IPython & Jupyter?\n",
    "\n",
    "![IPython](http://ipython.org/_static/IPy_header.png)\n",
    "\n",
    "![Jupyter](http://jupyter.org/assets/main-logo.svg)"
   ]
  },
  {
   "cell_type": "markdown",
   "metadata": {
    "slideshow": {
     "slide_type": "subslide"
    }
   },
   "source": [
    "## IPython\n",
    "\n",
    "2001\n",
    "\n",
    "Все в консоли, отображение графиков в новом окне и т.д."
   ]
  },
  {
   "cell_type": "markdown",
   "metadata": {
    "slideshow": {
     "slide_type": "fragment"
    }
   },
   "source": [
    "## IPython Notebook **pre** 1.0\n",
    "\n",
    "18 декабря 2011\n",
    "\n",
    "![IPython Notebook](http://ipython.org/_images/ipy_0.12.png)"
   ]
  },
  {
   "cell_type": "markdown",
   "metadata": {
    "slideshow": {
     "slide_type": "subslide"
    }
   },
   "source": [
    "8 августа 2013 - IPython 1.0"
   ]
  },
  {
   "cell_type": "markdown",
   "metadata": {
    "slideshow": {
     "slide_type": "fragment"
    }
   },
   "source": [
    "1 апреля 2014 - IPython 2.0\n",
    "\n",
    "Появились виджеты"
   ]
  },
  {
   "cell_type": "markdown",
   "metadata": {
    "slideshow": {
     "slide_type": "fragment"
    }
   },
   "source": [
    "27 февраля 2015 - IPython 3.0\n",
    "\n",
    "[IPython kernels for other languages](https://github.com/ipython/ipython/wiki/IPython-kernels-for-other-languages) - 54"
   ]
  },
  {
   "cell_type": "markdown",
   "metadata": {
    "slideshow": {
     "slide_type": "subslide"
    }
   },
   "source": [
    "### Проблема\n",
    "\n",
    "В названии IPython"
   ]
  },
  {
   "cell_type": "markdown",
   "metadata": {
    "slideshow": {
     "slide_type": "fragment"
    }
   },
   "source": [
    "Это уже не только **Python**"
   ]
  },
  {
   "cell_type": "markdown",
   "metadata": {
    "slideshow": {
     "slide_type": "fragment"
    }
   },
   "source": [
    "![Jupyter = Julia + Python + R](img/jupyter.png)"
   ]
  },
  {
   "cell_type": "markdown",
   "metadata": {
    "slideshow": {
     "slide_type": "subslide"
    }
   },
   "source": [
    "## Jupyter Notebook\n",
    "\n",
    "![Jupyter Notebook](http://jupyter.org/assets/main-logo.svg)"
   ]
  },
  {
   "cell_type": "markdown",
   "metadata": {
    "slideshow": {
     "slide_type": "fragment"
    }
   },
   "source": [
    "### И еще одна проблема..."
   ]
  },
  {
   "cell_type": "markdown",
   "metadata": {
    "slideshow": {
     "slide_type": "fragment"
    }
   },
   "source": [
    "Один большой **монолитный** репозиторий\n",
    "\n"
   ]
  },
  {
   "cell_type": "markdown",
   "metadata": {
    "slideshow": {
     "slide_type": "subslide"
    }
   },
   "source": [
    "## Куда класть исходники - Григорий Петров\n",
    "\n",
    "<iframe width=\"560\" height=\"315\" src=\"https://www.youtube.com/embed/u2ZkF888qaU\" frameborder=\"0\" allowfullscreen></iframe>"
   ]
  },
  {
   "cell_type": "markdown",
   "metadata": {
    "collapsed": true,
    "slideshow": {
     "slide_type": "subslide"
    }
   },
   "source": [
    "## Jupyter 4.0 \"BigSplit\""
   ]
  },
  {
   "cell_type": "markdown",
   "metadata": {
    "collapsed": true,
    "slideshow": {
     "slide_type": "fragment"
    }
   },
   "source": [
    "- ipython\n",
    "- ipykernel\n",
    "- ipywidget\n",
    "- notebook\n",
    "- jupyter_core\n",
    "- etc."
   ]
  },
  {
   "cell_type": "markdown",
   "metadata": {
    "collapsed": true,
    "slideshow": {
     "slide_type": "fragment"
    }
   },
   "source": [
    "8 января 2016 - Jupyter 4.1\n",
    "\n",
    "- Первый релиз после **BigSplit**\n",
    "- Будут частыми *smaller releases*"
   ]
  },
  {
   "cell_type": "markdown",
   "metadata": {
    "slideshow": {
     "slide_type": "subslide"
    }
   },
   "source": [
    "### Multi-cells\n",
    "\n",
    "- Выделение **Shift-Up / Shift-Down**\n",
    "- Merge **Shift-M**\n",
    "\n",
    "![multiple selection](img/4-1-multi-merge.gif)"
   ]
  },
  {
   "cell_type": "markdown",
   "metadata": {
    "slideshow": {
     "slide_type": "subslide"
    }
   },
   "source": [
    "### Command palette\n",
    "\n",
    "**Cmd-Shift-P / Ctrl-Shift-P**\n",
    "\n",
    "![Command Palette](img/4-1-command-palette.gif)"
   ]
  },
  {
   "cell_type": "markdown",
   "metadata": {
    "slideshow": {
     "slide_type": "subslide"
    }
   },
   "source": [
    "### Restart kernel and run-all\n",
    "\n",
    "![Restart kernel](img/4-1-restart.png)"
   ]
  },
  {
   "cell_type": "markdown",
   "metadata": {
    "slideshow": {
     "slide_type": "subslide"
    }
   },
   "source": [
    "### Find & Replace\n",
    "\n",
    "Hotkey - **F**\n",
    "\n",
    "![Find & replace](img/4-1-snr.gif)"
   ]
  },
  {
   "cell_type": "code",
   "execution_count": null,
   "metadata": {
    "collapsed": false,
    "slideshow": {
     "slide_type": "slide"
    }
   },
   "outputs": [],
   "source": [
    "! jupyter notebook"
   ]
  },
  {
   "cell_type": "markdown",
   "metadata": {
    "slideshow": {
     "slide_type": "subslide"
    }
   },
   "source": [
    "## Немного магии"
   ]
  },
  {
   "cell_type": "code",
   "execution_count": 14,
   "metadata": {
    "collapsed": false,
    "slideshow": {
     "slide_type": "fragment"
    }
   },
   "outputs": [
    {
     "data": {
      "application/json": {
       "cell": {
        "!": "OSMagics",
        "HTML": "Other",
        "SVG": "Other",
        "bash": "Other",
        "capture": "ExecutionMagics",
        "debug": "ExecutionMagics",
        "file": "Other",
        "html": "DisplayMagics",
        "javascript": "DisplayMagics",
        "latex": "DisplayMagics",
        "perl": "Other",
        "prun": "ExecutionMagics",
        "pypy": "Other",
        "python": "Other",
        "python2": "Other",
        "python3": "Other",
        "ruby": "Other",
        "script": "ScriptMagics",
        "sh": "Other",
        "svg": "DisplayMagics",
        "sx": "OSMagics",
        "system": "OSMagics",
        "time": "ExecutionMagics",
        "timeit": "ExecutionMagics",
        "writefile": "OSMagics"
       },
       "line": {
        "alias": "OSMagics",
        "alias_magic": "BasicMagics",
        "autocall": "AutoMagics",
        "automagic": "AutoMagics",
        "autosave": "KernelMagics",
        "bookmark": "OSMagics",
        "cat": "Other",
        "cd": "OSMagics",
        "clear": "KernelMagics",
        "colors": "BasicMagics",
        "config": "ConfigMagics",
        "connect_info": "KernelMagics",
        "cp": "Other",
        "debug": "ExecutionMagics",
        "dhist": "OSMagics",
        "dirs": "OSMagics",
        "doctest_mode": "BasicMagics",
        "ed": "Other",
        "edit": "KernelMagics",
        "env": "OSMagics",
        "gui": "BasicMagics",
        "hist": "Other",
        "history": "HistoryMagics",
        "install_default_config": "DeprecatedMagics",
        "install_ext": "ExtensionMagics",
        "install_profiles": "DeprecatedMagics",
        "killbgscripts": "ScriptMagics",
        "ldir": "Other",
        "less": "KernelMagics",
        "lf": "Other",
        "lk": "Other",
        "ll": "Other",
        "load": "CodeMagics",
        "load_ext": "ExtensionMagics",
        "loadpy": "CodeMagics",
        "logoff": "LoggingMagics",
        "logon": "LoggingMagics",
        "logstart": "LoggingMagics",
        "logstate": "LoggingMagics",
        "logstop": "LoggingMagics",
        "ls": "Other",
        "lsmagic": "BasicMagics",
        "lx": "Other",
        "macro": "ExecutionMagics",
        "magic": "BasicMagics",
        "man": "KernelMagics",
        "matplotlib": "PylabMagics",
        "mkdir": "Other",
        "more": "KernelMagics",
        "mv": "Other",
        "notebook": "BasicMagics",
        "page": "BasicMagics",
        "pastebin": "CodeMagics",
        "pdb": "ExecutionMagics",
        "pdef": "NamespaceMagics",
        "pdoc": "NamespaceMagics",
        "pfile": "NamespaceMagics",
        "pinfo": "NamespaceMagics",
        "pinfo2": "NamespaceMagics",
        "popd": "OSMagics",
        "pprint": "BasicMagics",
        "precision": "BasicMagics",
        "profile": "BasicMagics",
        "prun": "ExecutionMagics",
        "psearch": "NamespaceMagics",
        "psource": "NamespaceMagics",
        "pushd": "OSMagics",
        "pwd": "OSMagics",
        "pycat": "OSMagics",
        "pylab": "PylabMagics",
        "qtconsole": "KernelMagics",
        "quickref": "BasicMagics",
        "recall": "HistoryMagics",
        "rehashx": "OSMagics",
        "reload_ext": "ExtensionMagics",
        "rep": "Other",
        "rerun": "HistoryMagics",
        "reset": "NamespaceMagics",
        "reset_selective": "NamespaceMagics",
        "rm": "Other",
        "rmdir": "Other",
        "run": "ExecutionMagics",
        "save": "CodeMagics",
        "sc": "OSMagics",
        "set_env": "OSMagics",
        "store": "StoreMagics",
        "sx": "OSMagics",
        "system": "OSMagics",
        "tb": "ExecutionMagics",
        "time": "ExecutionMagics",
        "timeit": "ExecutionMagics",
        "unalias": "OSMagics",
        "unload_ext": "ExtensionMagics",
        "who": "NamespaceMagics",
        "who_ls": "NamespaceMagics",
        "whos": "NamespaceMagics",
        "xdel": "NamespaceMagics",
        "xmode": "BasicMagics"
       }
      },
      "text/plain": [
       "Available line magics:\n",
       "%alias  %alias_magic  %autocall  %automagic  %autosave  %bookmark  %cat  %cd  %clear  %colors  %config  %connect_info  %cp  %debug  %dhist  %dirs  %doctest_mode  %ed  %edit  %env  %gui  %hist  %history  %install_default_config  %install_ext  %install_profiles  %killbgscripts  %ldir  %less  %lf  %lk  %ll  %load  %load_ext  %loadpy  %logoff  %logon  %logstart  %logstate  %logstop  %ls  %lsmagic  %lx  %macro  %magic  %man  %matplotlib  %mkdir  %more  %mv  %notebook  %page  %pastebin  %pdb  %pdef  %pdoc  %pfile  %pinfo  %pinfo2  %popd  %pprint  %precision  %profile  %prun  %psearch  %psource  %pushd  %pwd  %pycat  %pylab  %qtconsole  %quickref  %recall  %rehashx  %reload_ext  %rep  %rerun  %reset  %reset_selective  %rm  %rmdir  %run  %save  %sc  %set_env  %store  %sx  %system  %tb  %time  %timeit  %unalias  %unload_ext  %who  %who_ls  %whos  %xdel  %xmode\n",
       "\n",
       "Available cell magics:\n",
       "%%!  %%HTML  %%SVG  %%bash  %%capture  %%debug  %%file  %%html  %%javascript  %%latex  %%perl  %%prun  %%pypy  %%python  %%python2  %%python3  %%ruby  %%script  %%sh  %%svg  %%sx  %%system  %%time  %%timeit  %%writefile\n",
       "\n",
       "Automagic is ON, % prefix IS NOT needed for line magics."
      ]
     },
     "execution_count": 14,
     "metadata": {},
     "output_type": "execute_result"
    }
   ],
   "source": [
    "%lsmagic"
   ]
  },
  {
   "cell_type": "code",
   "execution_count": 15,
   "metadata": {
    "collapsed": true,
    "slideshow": {
     "slide_type": "fragment"
    }
   },
   "outputs": [],
   "source": [
    "%quickref"
   ]
  },
  {
   "cell_type": "markdown",
   "metadata": {
    "collapsed": false,
    "slideshow": {
     "slide_type": "subslide"
    }
   },
   "source": [
    "### pwd\n",
    "Current working directory path"
   ]
  },
  {
   "cell_type": "code",
   "execution_count": 16,
   "metadata": {
    "collapsed": false,
    "scrolled": true,
    "slideshow": {
     "slide_type": "fragment"
    }
   },
   "outputs": [
    {
     "data": {
      "text/plain": [
       "'/Users/l.tonkikh/ipython'"
      ]
     },
     "execution_count": 16,
     "metadata": {},
     "output_type": "execute_result"
    }
   ],
   "source": [
    "%pwd"
   ]
  },
  {
   "cell_type": "markdown",
   "metadata": {
    "collapsed": false,
    "slideshow": {
     "slide_type": "fragment"
    }
   },
   "source": [
    "#### What in inside?"
   ]
  },
  {
   "cell_type": "code",
   "execution_count": 17,
   "metadata": {
    "collapsed": false,
    "slideshow": {
     "slide_type": "fragment"
    }
   },
   "outputs": [
    {
     "data": {
      "text/plain": [
       "('/Users/l.tonkikh/ipython', '/Users/l.tonkikh/ipython')"
      ]
     },
     "execution_count": 17,
     "metadata": {},
     "output_type": "execute_result"
    }
   ],
   "source": [
    "import os\n",
    "os.getcwd(), os.path.realpath('.')\n",
    "# or smth else?"
   ]
  },
  {
   "cell_type": "markdown",
   "metadata": {
    "slideshow": {
     "slide_type": "subslide"
    }
   },
   "source": [
    "#### Docstrings & examples"
   ]
  },
  {
   "cell_type": "code",
   "execution_count": 18,
   "metadata": {
    "collapsed": true,
    "slideshow": {
     "slide_type": "fragment"
    }
   },
   "outputs": [],
   "source": [
    "%pinfo %pwd"
   ]
  },
  {
   "cell_type": "markdown",
   "metadata": {
    "slideshow": {
     "slide_type": "fragment"
    }
   },
   "source": [
    "![pwd](img/pwd.png)"
   ]
  },
  {
   "cell_type": "code",
   "execution_count": 19,
   "metadata": {
    "collapsed": false,
    "slideshow": {
     "slide_type": "subslide"
    }
   },
   "outputs": [
    {
     "data": {
      "text/plain": [
       "'/Users/l.tonkikh/ipython'"
      ]
     },
     "execution_count": 19,
     "metadata": {},
     "output_type": "execute_result"
    }
   ],
   "source": [
    "from IPython.core.magics.osm import OSMagics\n",
    "magic = OSMagics()\n",
    "magic.pwd()"
   ]
  },
  {
   "cell_type": "code",
   "execution_count": 20,
   "metadata": {
    "collapsed": false,
    "slideshow": {
     "slide_type": "fragment"
    }
   },
   "outputs": [],
   "source": [
    "%psource magic.pwd"
   ]
  },
  {
   "cell_type": "markdown",
   "metadata": {
    "slideshow": {
     "slide_type": "fragment"
    }
   },
   "source": [
    "![magic.pwd](img/magic_pwd.png)"
   ]
  },
  {
   "cell_type": "code",
   "execution_count": 21,
   "metadata": {
    "collapsed": true,
    "slideshow": {
     "slide_type": "fragment"
    }
   },
   "outputs": [],
   "source": [
    "%psource %psource"
   ]
  },
  {
   "cell_type": "code",
   "execution_count": 22,
   "metadata": {
    "collapsed": true,
    "slideshow": {
     "slide_type": "fragment"
    }
   },
   "outputs": [],
   "source": [
    "%psource %pwd"
   ]
  },
  {
   "cell_type": "markdown",
   "metadata": {
    "collapsed": false,
    "slideshow": {
     "slide_type": "subslide"
    }
   },
   "source": [
    "### env\n",
    "Virtual Environment"
   ]
  },
  {
   "cell_type": "code",
   "execution_count": null,
   "metadata": {
    "collapsed": false,
    "scrolled": true,
    "slideshow": {
     "slide_type": "fragment"
    }
   },
   "outputs": [],
   "source": [
    "%env"
   ]
  },
  {
   "cell_type": "code",
   "execution_count": 24,
   "metadata": {
    "collapsed": false,
    "slideshow": {
     "slide_type": "fragment"
    }
   },
   "outputs": [],
   "source": [
    "env = %env\n",
    "%page env"
   ]
  },
  {
   "cell_type": "markdown",
   "metadata": {
    "slideshow": {
     "slide_type": "fragment"
    }
   },
   "source": [
    "### True or False?"
   ]
  },
  {
   "cell_type": "code",
   "execution_count": 1,
   "metadata": {
    "collapsed": false,
    "slideshow": {
     "slide_type": "fragment"
    }
   },
   "outputs": [
    {
     "name": "stdout",
     "output_type": "stream",
     "text": [
      "env: lol=lol\n"
     ]
    }
   ],
   "source": [
    "env = %env\n",
    "%set_env lol lol\n",
    "q = 'lol' in env.keys()"
   ]
  },
  {
   "cell_type": "code",
   "execution_count": 2,
   "metadata": {
    "collapsed": false,
    "slideshow": {
     "slide_type": "fragment"
    }
   },
   "outputs": [
    {
     "data": {
      "text/plain": [
       "False"
      ]
     },
     "execution_count": 2,
     "metadata": {},
     "output_type": "execute_result"
    }
   ],
   "source": [
    "q"
   ]
  },
  {
   "cell_type": "code",
   "execution_count": 27,
   "metadata": {
    "collapsed": false,
    "slideshow": {
     "slide_type": "subslide"
    }
   },
   "outputs": [],
   "source": [
    "# %mkdir test\n",
    "# %cd test"
   ]
  },
  {
   "cell_type": "code",
   "execution_count": null,
   "metadata": {
    "collapsed": false,
    "slideshow": {
     "slide_type": "fragment"
    }
   },
   "outputs": [],
   "source": [
    "# %load test.py\n",
    "test.py\n",
    "\n",
    "print('Hello world')"
   ]
  },
  {
   "cell_type": "code",
   "execution_count": 31,
   "metadata": {
    "collapsed": true,
    "slideshow": {
     "slide_type": "fragment"
    }
   },
   "outputs": [],
   "source": [
    "%pycat test.py"
   ]
  },
  {
   "cell_type": "markdown",
   "metadata": {
    "slideshow": {
     "slide_type": "fragment"
    }
   },
   "source": [
    "![pycat](img/pycat.png)"
   ]
  },
  {
   "cell_type": "markdown",
   "metadata": {
    "collapsed": false,
    "slideshow": {
     "slide_type": "subslide"
    }
   },
   "source": [
    "### Shell capture"
   ]
  },
  {
   "cell_type": "code",
   "execution_count": 32,
   "metadata": {
    "collapsed": false,
    "slideshow": {
     "slide_type": "fragment"
    }
   },
   "outputs": [],
   "source": [
    "%sc files = ls"
   ]
  },
  {
   "cell_type": "code",
   "execution_count": 33,
   "metadata": {
    "collapsed": false,
    "slideshow": {
     "slide_type": "fragment"
    }
   },
   "outputs": [
    {
     "data": {
      "text/plain": [
       "'Untitled.ipynb\\ndocs\\nenv\\nhtml\\nimg\\nipython.ipynb\\nipython.slides.html\\nipython_log.py\\nnot_track\\noverwritten.py\\nrequirements.txt\\ntest.png\\ntest.py\\n'"
      ]
     },
     "execution_count": 33,
     "metadata": {},
     "output_type": "execute_result"
    }
   ],
   "source": [
    "files"
   ]
  },
  {
   "cell_type": "code",
   "execution_count": 34,
   "metadata": {
    "collapsed": false,
    "slideshow": {
     "slide_type": "subslide"
    }
   },
   "outputs": [
    {
     "name": "stdout",
     "output_type": "stream",
     "text": [
      "Untitled.ipynb      \u001b[1m\u001b[36menv\u001b[m\u001b[m                 \u001b[1m\u001b[36mimg\u001b[m\u001b[m                 ipython.slides.html \u001b[1m\u001b[36mnot_track\u001b[m\u001b[m           requirements.txt    test.py\r\n",
      "docs                \u001b[1m\u001b[36mhtml\u001b[m\u001b[m                ipython.ipynb       ipython_log.py      overwritten.py      test.png\r\n"
     ]
    }
   ],
   "source": [
    "! ls"
   ]
  },
  {
   "cell_type": "code",
   "execution_count": 35,
   "metadata": {
    "collapsed": false,
    "scrolled": true,
    "slideshow": {
     "slide_type": "fragment"
    }
   },
   "outputs": [
    {
     "data": {
      "text/plain": [
       "(['Untitled.ipynb',\n",
       "  'docs',\n",
       "  'env',\n",
       "  'html',\n",
       "  'img',\n",
       "  'ipython.ipynb',\n",
       "  'ipython.slides.html',\n",
       "  'ipython_log.py',\n",
       "  'not_track',\n",
       "  'overwritten.py',\n",
       "  'requirements.txt',\n",
       "  'test.png',\n",
       "  'test.py'],\n",
       " 'Untitled.ipynb\\ndocs\\nenv\\nhtml\\nimg\\nipython.ipynb\\nipython.slides.html\\nipython_log.py\\nnot_track\\noverwritten.py\\nrequirements.txt\\ntest.png\\ntest.py',\n",
       " 'Untitled.ipynb docs env html img ipython.ipynb ipython.slides.html ipython_log.py not_track overwritten.py requirements.txt test.png test.py')"
      ]
     },
     "execution_count": 35,
     "metadata": {},
     "output_type": "execute_result"
    }
   ],
   "source": [
    "files = ! ls\n",
    "files, files.n, files.s"
   ]
  },
  {
   "cell_type": "markdown",
   "metadata": {
    "slideshow": {
     "slide_type": "subslide"
    }
   },
   "source": [
    "### Shell execute"
   ]
  },
  {
   "cell_type": "code",
   "execution_count": 36,
   "metadata": {
    "collapsed": false,
    "scrolled": true,
    "slideshow": {
     "slide_type": "subslide"
    }
   },
   "outputs": [
    {
     "data": {
      "text/plain": [
       "['Untitled.ipynb',\n",
       " 'docs',\n",
       " 'env',\n",
       " 'html',\n",
       " 'img',\n",
       " 'ipython.ipynb',\n",
       " 'ipython.slides.html',\n",
       " 'ipython_log.py',\n",
       " 'not_track',\n",
       " 'overwritten.py',\n",
       " 'requirements.txt',\n",
       " 'test.png',\n",
       " 'test.py']"
      ]
     },
     "execution_count": 36,
     "metadata": {},
     "output_type": "execute_result"
    }
   ],
   "source": [
    "files = %sx ls # == %sc -l files = l\n",
    "files\n",
    "# files.n\n",
    "# files.s"
   ]
  },
  {
   "cell_type": "code",
   "execution_count": 37,
   "metadata": {
    "collapsed": false,
    "slideshow": {
     "slide_type": "fragment"
    }
   },
   "outputs": [
    {
     "data": {
      "text/plain": [
       "['Untitled.ipynb',\n",
       " 'docs',\n",
       " 'env',\n",
       " 'html',\n",
       " 'img',\n",
       " 'ipython.ipynb',\n",
       " 'ipython.slides.html',\n",
       " 'ipython_log.py',\n",
       " 'not_track',\n",
       " 'overwritten.py',\n",
       " 'requirements.txt',\n",
       " 'test.png',\n",
       " 'test.py']"
      ]
     },
     "execution_count": 37,
     "metadata": {},
     "output_type": "execute_result"
    }
   ],
   "source": [
    "!! ls"
   ]
  },
  {
   "cell_type": "markdown",
   "metadata": {
    "collapsed": false,
    "slideshow": {
     "slide_type": "subslide"
    }
   },
   "source": [
    "### One more example"
   ]
  },
  {
   "cell_type": "code",
   "execution_count": 38,
   "metadata": {
    "collapsed": false,
    "scrolled": true,
    "slideshow": {
     "slide_type": "fragment"
    }
   },
   "outputs": [
    {
     "name": "stdout",
     "output_type": "stream",
     "text": [
      "ipython==4.0.3\r\n",
      "ipython-genutils==0.1.0\r\n"
     ]
    }
   ],
   "source": [
    "! pip freeze | grep ipython"
   ]
  },
  {
   "cell_type": "code",
   "execution_count": 39,
   "metadata": {
    "collapsed": false,
    "slideshow": {
     "slide_type": "fragment"
    }
   },
   "outputs": [
    {
     "data": {
      "text/plain": [
       "['ipython==4.0.3', 'ipython-genutils==0.1.0']"
      ]
     },
     "execution_count": 39,
     "metadata": {},
     "output_type": "execute_result"
    }
   ],
   "source": [
    "!! pip freeze | grep ipython"
   ]
  },
  {
   "cell_type": "markdown",
   "metadata": {
    "slideshow": {
     "slide_type": "subslide"
    }
   },
   "source": [
    "### Bash"
   ]
  },
  {
   "cell_type": "code",
   "execution_count": 40,
   "metadata": {
    "collapsed": false,
    "slideshow": {
     "slide_type": "fragment"
    }
   },
   "outputs": [
    {
     "name": "stdout",
     "output_type": "stream",
     "text": [
      "1\n",
      "2\n",
      "3\n"
     ]
    }
   ],
   "source": [
    "%%bash\n",
    "for i in {1..3};\n",
    "do\n",
    "  echo \"$i\"\n",
    "done"
   ]
  },
  {
   "cell_type": "markdown",
   "metadata": {
    "collapsed": false,
    "slideshow": {
     "slide_type": "subslide"
    }
   },
   "source": [
    "### Who"
   ]
  },
  {
   "cell_type": "code",
   "execution_count": 41,
   "metadata": {
    "collapsed": false,
    "slideshow": {
     "slide_type": "subslide"
    }
   },
   "outputs": [
    {
     "name": "stdout",
     "output_type": "stream",
     "text": [
      "OSMagics\t a\t env\t files\t magic\t os\t q\t \n"
     ]
    }
   ],
   "source": [
    "%who"
   ]
  },
  {
   "cell_type": "code",
   "execution_count": 42,
   "metadata": {
    "collapsed": false,
    "slideshow": {
     "slide_type": "fragment"
    }
   },
   "outputs": [
    {
     "data": {
      "text/plain": [
       "['OSMagics', 'a', 'env', 'files', 'magic', 'os', 'q']"
      ]
     },
     "execution_count": 42,
     "metadata": {},
     "output_type": "execute_result"
    }
   ],
   "source": [
    "%who_ls"
   ]
  },
  {
   "cell_type": "code",
   "execution_count": 43,
   "metadata": {
    "collapsed": false,
    "slideshow": {
     "slide_type": "subslide"
    }
   },
   "outputs": [
    {
     "data": {
      "text/plain": [
       "['env']"
      ]
     },
     "execution_count": 43,
     "metadata": {},
     "output_type": "execute_result"
    }
   ],
   "source": [
    "%who_ls dict"
   ]
  },
  {
   "cell_type": "code",
   "execution_count": 44,
   "metadata": {
    "collapsed": false,
    "slideshow": {
     "slide_type": "fragment"
    }
   },
   "outputs": [
    {
     "name": "stdout",
     "output_type": "stream",
     "text": [
      "Variable   Type             Data/Info\n",
      "-------------------------------------\n",
      "OSMagics   MetaHasTraits    <class 'IPython.core.magics.osm.OSMagics'>\n",
      "a          SList            ['You are using pip versi<...>ipython-genutils==0.1.0']\n",
      "env        dict             n=39\n",
      "files      SList            ['Untitled.ipynb', 'docs'<...>', 'test.png', 'test.py']\n",
      "magic      OSMagics         <IPython.core.magics.osm.<...>cs object at 0x106353160>\n",
      "os         module           <module 'os' from '/Libra<...>3.5/lib/python3.5/os.py'>\n",
      "q          bool             True\n"
     ]
    }
   ],
   "source": [
    "%whos"
   ]
  },
  {
   "cell_type": "markdown",
   "metadata": {
    "slideshow": {
     "slide_type": "subslide"
    }
   },
   "source": [
    "## psearch\n",
    "Поиск по имени переменной"
   ]
  },
  {
   "cell_type": "code",
   "execution_count": 63,
   "metadata": {
    "collapsed": true,
    "slideshow": {
     "slide_type": "fragment"
    }
   },
   "outputs": [],
   "source": [
    "a1 = 1\n",
    "a2 = 'a2'"
   ]
  },
  {
   "cell_type": "code",
   "execution_count": 64,
   "metadata": {
    "collapsed": false,
    "slideshow": {
     "slide_type": "fragment"
    }
   },
   "outputs": [],
   "source": [
    "%psearch a*"
   ]
  },
  {
   "cell_type": "markdown",
   "metadata": {
    "slideshow": {
     "slide_type": "fragment"
    }
   },
   "source": [
    "![psearch a](img/psearch_a.png)"
   ]
  },
  {
   "cell_type": "code",
   "execution_count": 66,
   "metadata": {
    "collapsed": true,
    "slideshow": {
     "slide_type": "fragment"
    }
   },
   "outputs": [],
   "source": [
    "%psearch -e builtin a*\n",
    "# a1\n",
    "# a2"
   ]
  },
  {
   "cell_type": "code",
   "execution_count": 67,
   "metadata": {
    "collapsed": true,
    "slideshow": {
     "slide_type": "fragment"
    }
   },
   "outputs": [],
   "source": [
    "%psearch -e builtin a* int"
   ]
  },
  {
   "cell_type": "markdown",
   "metadata": {
    "slideshow": {
     "slide_type": "subslide"
    }
   },
   "source": [
    "## Logging"
   ]
  },
  {
   "cell_type": "code",
   "execution_count": 69,
   "metadata": {
    "collapsed": false,
    "slideshow": {
     "slide_type": "fragment"
    }
   },
   "outputs": [
    {
     "name": "stdout",
     "output_type": "stream",
     "text": [
      "Logging has not been activated.\n"
     ]
    }
   ],
   "source": [
    "%logstate"
   ]
  },
  {
   "cell_type": "code",
   "execution_count": 70,
   "metadata": {
    "collapsed": false,
    "slideshow": {
     "slide_type": "fragment"
    }
   },
   "outputs": [
    {
     "name": "stdout",
     "output_type": "stream",
     "text": [
      "Activating auto-logging. Current session state plus future input saved.\n",
      "Filename       : ipython_log.py\n",
      "Mode           : rotate\n",
      "Output logging : False\n",
      "Raw input log  : False\n",
      "Timestamping   : False\n",
      "State          : active\n"
     ]
    }
   ],
   "source": [
    "%logstart"
   ]
  },
  {
   "cell_type": "code",
   "execution_count": 71,
   "metadata": {
    "collapsed": false,
    "slideshow": {
     "slide_type": "subslide"
    }
   },
   "outputs": [
    {
     "name": "stdout",
     "output_type": "stream",
     "text": [
      "Switching logging OFF\n"
     ]
    }
   ],
   "source": [
    "%logoff"
   ]
  },
  {
   "cell_type": "code",
   "execution_count": 72,
   "metadata": {
    "collapsed": false,
    "slideshow": {
     "slide_type": "fragment"
    }
   },
   "outputs": [
    {
     "name": "stdout",
     "output_type": "stream",
     "text": [
      "Switching logging ON\n"
     ]
    }
   ],
   "source": [
    "%logon"
   ]
  },
  {
   "cell_type": "code",
   "execution_count": 73,
   "metadata": {
    "collapsed": true,
    "slideshow": {
     "slide_type": "fragment"
    }
   },
   "outputs": [],
   "source": [
    "%logstop"
   ]
  },
  {
   "cell_type": "code",
   "execution_count": null,
   "metadata": {
    "collapsed": false,
    "slideshow": {
     "slide_type": "fragment"
    }
   },
   "outputs": [],
   "source": [
    "%cat ipython_log.py"
   ]
  },
  {
   "cell_type": "markdown",
   "metadata": {
    "slideshow": {
     "slide_type": "subslide"
    }
   },
   "source": [
    "## Python2 & Python3"
   ]
  },
  {
   "cell_type": "code",
   "execution_count": 69,
   "metadata": {
    "collapsed": false,
    "slideshow": {
     "slide_type": "fragment"
    }
   },
   "outputs": [
    {
     "data": {
      "text/html": [
       "<iframe scrolling=\"no\" style=\"border:none;\" width=\"640\" height=\"330\" src=\"http://www.google.com/trends/fetchComponent?hl=en-US&q=python+2,+python+3&cmpt=q&tz=Etc/GMT-3&tz=Etc/GMT-3&content=1&cid=TIMESERIES_GRAPH_0&export=5&w=640&h=330\"></iframe>"
      ],
      "text/plain": [
       "<IPython.core.display.HTML object>"
      ]
     },
     "metadata": {},
     "output_type": "display_data"
    }
   ],
   "source": [
    "%%html\n",
    "<iframe scrolling=\"no\" style=\"border:none;\" width=\"640\" height=\"330\" src=\"http://www.google.com/trends/fetchComponent?hl=en-US&q=python+2,+python+3&cmpt=q&tz=Etc/GMT-3&tz=Etc/GMT-3&content=1&cid=TIMESERIES_GRAPH_0&export=5&w=640&h=330\"></iframe>"
   ]
  },
  {
   "cell_type": "code",
   "execution_count": 70,
   "metadata": {
    "collapsed": false,
    "slideshow": {
     "slide_type": "subslide"
    }
   },
   "outputs": [
    {
     "name": "stdout",
     "output_type": "stream",
     "text": [
      "Couldn't find program: 'python2'\n"
     ]
    }
   ],
   "source": [
    "%%python2\n",
    "import sys\n",
    "print(sys.version)"
   ]
  },
  {
   "cell_type": "markdown",
   "metadata": {
    "slideshow": {
     "slide_type": "subslide"
    }
   },
   "source": [
    "![!Python2](img/python2.jpg)"
   ]
  },
  {
   "cell_type": "code",
   "execution_count": 71,
   "metadata": {
    "collapsed": false,
    "slideshow": {
     "slide_type": "subslide"
    }
   },
   "outputs": [
    {
     "name": "stdout",
     "output_type": "stream",
     "text": [
      "3.5.0 (v3.5.0:374f501f4567, Sep 12 2015, 11:00:19) \n",
      "[GCC 4.2.1 (Apple Inc. build 5666) (dot 3)]\n"
     ]
    }
   ],
   "source": [
    "%%python3\n",
    "import sys\n",
    "print(sys.version)"
   ]
  },
  {
   "cell_type": "code",
   "execution_count": 6,
   "metadata": {
    "collapsed": false,
    "slideshow": {
     "slide_type": "fragment"
    }
   },
   "outputs": [
    {
     "name": "stdout",
     "output_type": "stream",
     "text": [
      "2"
     ]
    }
   ],
   "source": [
    "%%perl\n",
    "\n",
    "print(sqrt(4))"
   ]
  },
  {
   "cell_type": "code",
   "execution_count": 3,
   "metadata": {
    "collapsed": false,
    "slideshow": {
     "slide_type": "fragment"
    }
   },
   "outputs": [
    {
     "name": "stdout",
     "output_type": "stream",
     "text": [
      "2.0\n"
     ]
    }
   ],
   "source": [
    "%%ruby\n",
    "\n",
    "include Math\n",
    "\n",
    "puts sqrt(4)"
   ]
  },
  {
   "cell_type": "markdown",
   "metadata": {
    "collapsed": false,
    "slideshow": {
     "slide_type": "subslide"
    }
   },
   "source": [
    "## Write & Sharing\n",
    "![Gists](img/logo_gist.png)"
   ]
  },
  {
   "cell_type": "code",
   "execution_count": 254,
   "metadata": {
    "collapsed": false,
    "slideshow": {
     "slide_type": "fragment"
    }
   },
   "outputs": [
    {
     "name": "stdout",
     "output_type": "stream",
     "text": [
      "Writing overwritten.py\n"
     ]
    }
   ],
   "source": [
    "%%writefile -a overwritten.py\n",
    "a = 'Hi'\n",
    "# You are in Good Company"
   ]
  },
  {
   "cell_type": "code",
   "execution_count": 255,
   "metadata": {
    "collapsed": false,
    "slideshow": {
     "slide_type": "fragment"
    }
   },
   "outputs": [
    {
     "data": {
      "text/plain": [
       "'https://gist.github.com/baaa3be4614b1c26d6f1'"
      ]
     },
     "execution_count": 255,
     "metadata": {},
     "output_type": "execute_result"
    }
   ],
   "source": [
    "%pastebin -d 'test file' overwritten.py"
   ]
  },
  {
   "cell_type": "markdown",
   "metadata": {
    "collapsed": true,
    "slideshow": {
     "slide_type": "subslide"
    }
   },
   "source": [
    "## Time\n",
    "Время выполнения"
   ]
  },
  {
   "cell_type": "code",
   "execution_count": 279,
   "metadata": {
    "collapsed": false,
    "slideshow": {
     "slide_type": "fragment"
    }
   },
   "outputs": [
    {
     "name": "stdout",
     "output_type": "stream",
     "text": [
      "CPU times: user 365 µs, sys: 2 µs, total: 367 µs\n",
      "Wall time: 370 µs\n"
     ]
    }
   ],
   "source": [
    "%time x = sum(range(10000))"
   ]
  },
  {
   "cell_type": "code",
   "execution_count": 278,
   "metadata": {
    "collapsed": false,
    "slideshow": {
     "slide_type": "fragment"
    }
   },
   "outputs": [
    {
     "name": "stdout",
     "output_type": "stream",
     "text": [
      "1000 loops, best of 3: 208 µs per loop\n"
     ]
    }
   ],
   "source": [
    "%timeit x = sum(range(10000))"
   ]
  },
  {
   "cell_type": "code",
   "execution_count": 42,
   "metadata": {
    "collapsed": false,
    "slideshow": {
     "slide_type": "fragment"
    }
   },
   "outputs": [
    {
     "name": "stdout",
     "output_type": "stream",
     "text": [
      "1000 loops, best of 3: 320 µs per loop\n"
     ]
    }
   ],
   "source": [
    "%%timeit -n 1000\n",
    "x = range(10000)\n",
    "max(x)"
   ]
  },
  {
   "cell_type": "markdown",
   "metadata": {
    "slideshow": {
     "slide_type": "subslide"
    }
   },
   "source": [
    "## LaTeX"
   ]
  },
  {
   "cell_type": "code",
   "execution_count": 3,
   "metadata": {
    "collapsed": false,
    "slideshow": {
     "slide_type": "fragment"
    }
   },
   "outputs": [
    {
     "data": {
      "text/latex": [
       "\\begin{equation}\n",
       "   \\label{eq:normal_dist}\n",
       "   \\frac{1}{\\sigma\\sqrt{2\\pi}}\n",
       "     \\exp\\left(-\\frac{(x-\\mu)^2}{2\\sigma^2}\\right)\n",
       " \\end{equation}"
      ],
      "text/plain": [
       "<IPython.core.display.Latex object>"
      ]
     },
     "metadata": {},
     "output_type": "display_data"
    }
   ],
   "source": [
    "%%latex\n",
    "\\begin{equation}\n",
    "   \\label{eq:normal_dist}\n",
    "   \\frac{1}{\\sigma\\sqrt{2\\pi}}\n",
    "     \\exp\\left(-\\frac{(x-\\mu)^2}{2\\sigma^2}\\right)\n",
    " \\end{equation}"
   ]
  },
  {
   "cell_type": "code",
   "execution_count": 323,
   "metadata": {
    "collapsed": false,
    "scrolled": true,
    "slideshow": {
     "slide_type": "fragment"
    }
   },
   "outputs": [
    {
     "data": {
      "text/latex": [
       "\\begin{align}\n",
       "\\nabla \\times \\vec{\\mathbf{B}} -\\, \\frac1c\\, \\frac{\\partial\\vec{\\mathbf{E}}}{\\partial t} & = \\frac{4\\pi}{c}\\vec{\\mathbf{j}} \\\\\n",
       "\\nabla \\cdot \\vec{\\mathbf{E}} & = 4 \\pi \\rho \\\\\n",
       "\\nabla \\times \\vec{\\mathbf{E}}\\, +\\, \\frac1c\\, \\frac{\\partial\\vec{\\mathbf{B}}}{\\partial t} & = \\vec{\\mathbf{0}} \\\\\n",
       "\\nabla \\cdot \\vec{\\mathbf{B}} & = 0\n",
       "\\end{align}"
      ],
      "text/plain": [
       "<IPython.core.display.Latex object>"
      ]
     },
     "metadata": {},
     "output_type": "display_data"
    }
   ],
   "source": [
    "%%latex\n",
    "\\begin{align}\n",
    "\\nabla \\times \\vec{\\mathbf{B}} -\\, \\frac1c\\, \\frac{\\partial\\vec{\\mathbf{E}}}{\\partial t} & = \\frac{4\\pi}{c}\\vec{\\mathbf{j}} \\\\\n",
    "\\nabla \\cdot \\vec{\\mathbf{E}} & = 4 \\pi \\rho \\\\\n",
    "\\nabla \\times \\vec{\\mathbf{E}}\\, +\\, \\frac1c\\, \\frac{\\partial\\vec{\\mathbf{B}}}{\\partial t} & = \\vec{\\mathbf{0}} \\\\\n",
    "\\nabla \\cdot \\vec{\\mathbf{B}} & = 0\n",
    "\\end{align}"
   ]
  },
  {
   "cell_type": "markdown",
   "metadata": {
    "slideshow": {
     "slide_type": "slide"
    }
   },
   "source": [
    "# Demos"
   ]
  },
  {
   "cell_type": "markdown",
   "metadata": {
    "collapsed": true,
    "slideshow": {
     "slide_type": "subslide"
    }
   },
   "source": [
    "# Куда спрятаться от ядерного взрыва?"
   ]
  },
  {
   "cell_type": "markdown",
   "metadata": {
    "slideshow": {
     "slide_type": "fragment"
    }
   },
   "source": [
    "![nuke map](img/nuke_map.png)"
   ]
  },
  {
   "cell_type": "code",
   "execution_count": 32,
   "metadata": {
    "collapsed": true,
    "slideshow": {
     "slide_type": "subslide"
    }
   },
   "outputs": [],
   "source": [
    "import os\n",
    "import random\n",
    "from ipywidgets import interact, interactive, fixed\n",
    "import ipywidgets as widgets\n",
    "from IPython.display import display, IFrame"
   ]
  },
  {
   "cell_type": "code",
   "execution_count": 33,
   "metadata": {
    "collapsed": true,
    "slideshow": {
     "slide_type": "fragment"
    }
   },
   "outputs": [],
   "source": [
    "cities = {\n",
    "    'Washington': (38.890366, -77.031955), \n",
    "    'New York': (40.714545, -74.007112), \n",
    "    'Los Angeles': (34.053485, -118.245313),\n",
    "    'Las Vegas': (36.171906, -115.139963),\n",
    "}"
   ]
  },
  {
   "cell_type": "code",
   "execution_count": 34,
   "metadata": {
    "collapsed": true,
    "slideshow": {
     "slide_type": "fragment"
    }
   },
   "outputs": [],
   "source": [
    "city = widgets.Dropdown(\n",
    "    options=cities,\n",
    "    value=random.choice(list(cities.values())),\n",
    "    description='Choose city:',\n",
    ")\n",
    "\n",
    "display(city)"
   ]
  },
  {
   "cell_type": "code",
   "execution_count": 35,
   "metadata": {
    "collapsed": true,
    "slideshow": {
     "slide_type": "fragment"
    }
   },
   "outputs": [],
   "source": [
    "button = widgets.ToggleButton(\n",
    "    description='Merry Christmas!',\n",
    "    tooltip='123',\n",
    "    value=False,\n",
    ")"
   ]
  },
  {
   "cell_type": "code",
   "execution_count": 36,
   "metadata": {
    "collapsed": false,
    "slideshow": {
     "slide_type": "fragment"
    }
   },
   "outputs": [],
   "source": [
    "button"
   ]
  },
  {
   "cell_type": "code",
   "execution_count": null,
   "metadata": {
    "collapsed": false,
    "scrolled": true,
    "slideshow": {
     "slide_type": "skip"
    }
   },
   "outputs": [],
   "source": [
    "%mkdir html"
   ]
  },
  {
   "cell_type": "code",
   "execution_count": 36,
   "metadata": {
    "collapsed": false,
    "slideshow": {
     "slide_type": "subslide"
    }
   },
   "outputs": [],
   "source": [
    "import folium\n",
    "my_map = folium.Map(location=city.value, zoom_start=12)\n",
    "my_map.circle_marker(location=city.value, radius=1900,\n",
    "                    popup='Laurelhurst Park', line_color='#3186cc',\n",
    "                    fill_color='#3186cc')\n",
    "my_map.simple_marker(city.value, popup='Merry Christmas here', marker_color='red', marker_icon='gift')\n",
    "\n",
    "my_map.create_map(path='html/map.html')\n",
    "\n",
    "# L.control.scale().addTo(map);"
   ]
  },
  {
   "cell_type": "code",
   "execution_count": 38,
   "metadata": {
    "collapsed": false,
    "slideshow": {
     "slide_type": "fragment"
    }
   },
   "outputs": [
    {
     "data": {
      "text/html": [
       "\n",
       "        <iframe\n",
       "            width=\"1000\"\n",
       "            height=\"350\"\n",
       "            src=\"html/map.html\"\n",
       "            frameborder=\"0\"\n",
       "            allowfullscreen\n",
       "        ></iframe>\n",
       "        "
      ],
      "text/plain": [
       "<IPython.lib.display.IFrame at 0x108393fd0>"
      ]
     },
     "execution_count": 38,
     "metadata": {},
     "output_type": "execute_result"
    }
   ],
   "source": [
    "IFrame(src='html/map.html', width=1000, height=350)"
   ]
  },
  {
   "cell_type": "markdown",
   "metadata": {
    "slideshow": {
     "slide_type": "subslide"
    }
   },
   "source": [
    "![falloutboy](img/falloutboy_approves.jpg)"
   ]
  },
  {
   "cell_type": "markdown",
   "metadata": {
    "slideshow": {
     "slide_type": "subslide"
    }
   },
   "source": [
    "# Github Commits"
   ]
  },
  {
   "cell_type": "markdown",
   "metadata": {
    "slideshow": {
     "slide_type": "fragment"
    }
   },
   "source": [
    "Introducing the New GitHub Graphs - April 25, 2012 [link](https://github.com/blog/1093-introducing-the-new-github-graphs)\n",
    "![Screenshot](img/github_graphs.png)"
   ]
  },
  {
   "cell_type": "code",
   "execution_count": 4,
   "metadata": {
    "collapsed": true,
    "slideshow": {
     "slide_type": "subslide"
    }
   },
   "outputs": [],
   "source": [
    "from github import Github\n",
    "import matplotlib.pyplot as plt\n",
    "import seaborn as sns\n",
    "import pandas as pd\n",
    "%matplotlib inline"
   ]
  },
  {
   "cell_type": "code",
   "execution_count": 3,
   "metadata": {
    "collapsed": false,
    "slideshow": {
     "slide_type": "fragment"
    }
   },
   "outputs": [],
   "source": [
    "GITHUB_USER = os.getenv('GITHUB_USER')\n",
    "GITHUB_TOKEN = os.getenv('GITHUB_TOKEN')\n",
    "REPO_PATH = 'python/cpython'"
   ]
  },
  {
   "cell_type": "code",
   "execution_count": 8,
   "metadata": {
    "collapsed": true,
    "slideshow": {
     "slide_type": "fragment"
    }
   },
   "outputs": [],
   "source": [
    "g = Github(GITHUB_USER, GITHUB_TOKEN)\n",
    "repo = g.get_repo(REPO_PATH)\n",
    "df = pd.DataFrame({'date': pd.Series((i.commit.committer.date for i in repo.get_commits()))})\n",
    "stats = df.groupby(pd.Grouper(key='date', freq='M')).size()"
   ]
  },
  {
   "cell_type": "code",
   "execution_count": 35,
   "metadata": {
    "collapsed": false,
    "slideshow": {
     "slide_type": "subslide"
    }
   },
   "outputs": [
    {
     "data": {
      "text/plain": [
       "<matplotlib.text.Text at 0x1789e32b0>"
      ]
     },
     "execution_count": 35,
     "metadata": {},
     "output_type": "execute_result"
    },
    {
     "data": {
      "image/png": "[encoded data removed]",
      "text/plain": [
       "<matplotlib.figure.Figure at 0x15df8e710>"
      ]
     },
     "metadata": {},
     "output_type": "display_data"
    }
   ],
   "source": [
    "plt.figure(figsize=(16,4))\n",
    "stats.plot(title='Stats of commits', label='Commits', legend=True)\n",
    "plt.xlabel('Date'); plt.ylabel('Commits')\n",
    "plt.suptitle(REPO_PATH, y=1.05, fontsize=14, fontweight='bold')"
   ]
  },
  {
   "cell_type": "code",
   "execution_count": 1,
   "metadata": {
    "collapsed": true,
    "slideshow": {
     "slide_type": "skip"
    }
   },
   "outputs": [],
   "source": [
    "# https://github.com/PyGithub/PyGithub/pull/361"
   ]
  },
  {
   "cell_type": "markdown",
   "metadata": {
    "slideshow": {
     "slide_type": "slide"
    }
   },
   "source": [
    "# ipyparallel\n",
    "\n",
    "Powerful architecture for parallel and distributed computing"
   ]
  },
  {
   "cell_type": "markdown",
   "metadata": {
    "slideshow": {
     "slide_type": "fragment"
    }
   },
   "source": [
    "- Single program, multiple data (SPMD) parallelism.\n",
    "- Multiple program, multiple data (MPMD) parallelism.\n",
    "- Message passing using MPI.\n",
    "- Task farming.\n",
    "- Data parallel.\n",
    "- Combinations of these approaches.\n",
    "- Custom user defined approaches"
   ]
  },
  {
   "cell_type": "markdown",
   "metadata": {
    "slideshow": {
     "slide_type": "subslide"
    }
   },
   "source": [
    "![Architecture](img/wideView.png)"
   ]
  },
  {
   "cell_type": "markdown",
   "metadata": {
    "slideshow": {
     "slide_type": "subslide"
    }
   },
   "source": [
    "## Engine\n",
    "\n",
    "![Engine](img/engine.png)"
   ]
  },
  {
   "cell_type": "markdown",
   "metadata": {
    "slideshow": {
     "slide_type": "fragment"
    }
   },
   "source": [
    "- IPython instance, that takes commands\n",
    "- handle incoming and outgoing Python objects"
   ]
  },
  {
   "cell_type": "markdown",
   "metadata": {
    "slideshow": {
     "slide_type": "subslide"
    }
   },
   "source": [
    "## Controller\n",
    "\n",
    "![Controller](img/client.png)"
   ]
  },
  {
   "cell_type": "markdown",
   "metadata": {
    "slideshow": {
     "slide_type": "fragment"
    }
   },
   "source": [
    "- provide an interface for working with a set of engines (Direct or LoadBalanced)\n",
    "- collection of processes to which IPython engines and clients can connect\n",
    "- Controller = Hub + Schedulers"
   ]
  },
  {
   "cell_type": "markdown",
   "metadata": {
    "slideshow": {
     "slide_type": "subslide"
    }
   },
   "source": [
    "## Hub\n",
    "\n",
    "![hub](img/hub.png)"
   ]
  },
  {
   "cell_type": "markdown",
   "metadata": {
    "slideshow": {
     "slide_type": "fragment"
    }
   },
   "source": [
    "- Center of a Cluster\n",
    "- Process that keeps track of engine connections, schedulers, clients"
   ]
  },
  {
   "cell_type": "markdown",
   "metadata": {
    "slideshow": {
     "slide_type": "subslide"
    }
   },
   "source": [
    "## Schedulers\n",
    "\n",
    "![Schedulers](img/schedulers.png)"
   ]
  },
  {
   "cell_type": "markdown",
   "metadata": {
    "slideshow": {
     "slide_type": "fragment"
    }
   },
   "source": [
    "- All actions that can be performed on the engine go through a Scheduler\n",
    "- provide a fully asynchronous interface to a set of engines"
   ]
  },
  {
   "cell_type": "code",
   "execution_count": null,
   "metadata": {
    "collapsed": false,
    "slideshow": {
     "slide_type": "subslide"
    }
   },
   "outputs": [],
   "source": [
    "! ipcluster start -n 4"
   ]
  },
  {
   "cell_type": "code",
   "execution_count": 2,
   "metadata": {
    "collapsed": true,
    "slideshow": {
     "slide_type": "skip"
    }
   },
   "outputs": [],
   "source": [
    "%mkdir not_track\n",
    "\n",
    "# + clone https://github.com/icoz/habraparse"
   ]
  },
  {
   "cell_type": "code",
   "execution_count": 3,
   "metadata": {
    "collapsed": true,
    "slideshow": {
     "slide_type": "fragment"
    }
   },
   "outputs": [],
   "source": [
    "%%bash\n",
    "python not_track/habraparse.py save_favs_list stleon not_track/test.txt\n",
    "python not_track/habraparse.py save_favs_list --gt stleon not_track/test1.txt\n",
    "python not_track/habraparse.py save_favs_list --mm stleon not_track/test2.txt\n",
    "cat not_track/test1.txt not_track/test2.txt >> not_track/test.txt"
   ]
  },
  {
   "cell_type": "code",
   "execution_count": 47,
   "metadata": {
    "collapsed": true,
    "slideshow": {
     "slide_type": "fragment"
    }
   },
   "outputs": [],
   "source": [
    "from ipyparallel import Client, require\n",
    "\n",
    "client = Client()\n",
    "dview = client[:]"
   ]
  },
  {
   "cell_type": "code",
   "execution_count": 48,
   "metadata": {
    "collapsed": false,
    "slideshow": {
     "slide_type": "fragment"
    }
   },
   "outputs": [
    {
     "data": {
      "text/plain": [
       "<DirectView [0, 1, 2, 3]>"
      ]
     },
     "execution_count": 48,
     "metadata": {},
     "output_type": "execute_result"
    }
   ],
   "source": [
    "dview"
   ]
  },
  {
   "cell_type": "code",
   "execution_count": 49,
   "metadata": {
    "collapsed": true,
    "slideshow": {
     "slide_type": "fragment"
    }
   },
   "outputs": [],
   "source": [
    "links = (link.strip() for link in open('not_track/test.txt'))"
   ]
  },
  {
   "cell_type": "code",
   "execution_count": 50,
   "metadata": {
    "collapsed": false,
    "slideshow": {
     "slide_type": "fragment"
    }
   },
   "outputs": [
    {
     "data": {
      "text/plain": [
       "<AsyncResult: finished>"
      ]
     },
     "execution_count": 50,
     "metadata": {},
     "output_type": "execute_result"
    }
   ],
   "source": [
    "dview.scatter('links', list(links))"
   ]
  },
  {
   "cell_type": "code",
   "execution_count": 51,
   "metadata": {
    "collapsed": false,
    "slideshow": {
     "slide_type": "subslide"
    }
   },
   "outputs": [
    {
     "data": {
      "text/plain": [
       "4"
      ]
     },
     "execution_count": 51,
     "metadata": {},
     "output_type": "execute_result"
    }
   ],
   "source": [
    "len(dview['links'])"
   ]
  },
  {
   "cell_type": "code",
   "execution_count": 52,
   "metadata": {
    "collapsed": true,
    "slideshow": {
     "slide_type": "fragment"
    }
   },
   "outputs": [],
   "source": [
    "@dview.remote(block=False)\n",
    "@require('requests', 'bs4')\n",
    "def tag_maker():\n",
    "    tags = {}\n",
    "    for link in links:\n",
    "        soup = bs4.BeautifulSoup(requests.get(link).text, 'html.parser')\n",
    "        for i in soup.findAll(\"a\", rel=\"tag\"):\n",
    "            tag = i.string.lower()\n",
    "            tags[tag] = 1 + tags.get(tag, 0)\n",
    "    return tags"
   ]
  },
  {
   "cell_type": "code",
   "execution_count": 53,
   "metadata": {
    "collapsed": false,
    "slideshow": {
     "slide_type": "fragment"
    }
   },
   "outputs": [],
   "source": [
    "tags = tag_maker().result"
   ]
  },
  {
   "cell_type": "code",
   "execution_count": 54,
   "metadata": {
    "collapsed": false,
    "slideshow": {
     "slide_type": "fragment"
    }
   },
   "outputs": [
    {
     "data": {
      "text/plain": [
       "[{'.sort': 1,\n",
       "  '1с-битрикс': 1,\n",
       "  'amazon ec2': 1,\n",
       "  'amazon ses': 1,\n",
       "  'amazon web services': 2,\n",
       "  'amqp': 1,\n",
       "  'android': 3,\n",
       "  'api': 1,\n",
       "  'arduino': 1,\n",
       "  'armin ronacher': 1,\n",
       "  'aws': 1,\n",
       "  'bitbucket': 1,\n",
       "  'branching': 1,\n",
       "  'canvas': 1,\n",
       "  'capture': 1,\n",
       "  'cbv': 1,\n",
       "  'charting': 1,\n",
       "  'charts': 1,\n",
       "  'class based views': 1,\n",
       "  'class-based': 1,\n",
       "  'cloud computing': 1,\n",
       "  'cloud platform': 1,\n",
       "  'code review': 1,\n",
       "  'continuous integration': 1,\n",
       "  'convertible note': 1,\n",
       "  'cpython': 1,\n",
       "  'create': 1,\n",
       "  'css3': 1,\n",
       "  'css3 animation': 1,\n",
       "  'css3 transform': 1,\n",
       "  'data': 1,\n",
       "  'debugger': 1,\n",
       "  'decorator': 2,\n",
       "  'decorators': 2,\n",
       "  'deploy': 1,\n",
       "  'deployment tools': 1,\n",
       "  'descriptor': 1,\n",
       "  'descriptor protocol': 1,\n",
       "  'development': 2,\n",
       "  'django': 5,\n",
       "  'django framework': 2,\n",
       "  'django-sphinx': 1,\n",
       "  'django-work-flow': 1,\n",
       "  'documentation': 1,\n",
       "  'e-mail': 1,\n",
       "  'ec2': 1,\n",
       "  'elasticsearch': 1,\n",
       "  'fabric': 2,\n",
       "  'feedback': 1,\n",
       "  'flow': 1,\n",
       "  'fulltext search': 2,\n",
       "  'functional programming': 1,\n",
       "  'gcm': 2,\n",
       "  'gephi': 1,\n",
       "  'gil': 1,\n",
       "  'git': 4,\n",
       "  'git workflow': 1,\n",
       "  'gitflow': 1,\n",
       "  'google cloud messaging': 2,\n",
       "  'heatmap': 1,\n",
       "  'hello world': 1,\n",
       "  'hosting': 1,\n",
       "  'howto': 3,\n",
       "  'html5': 1,\n",
       "  'https': 1,\n",
       "  'iam': 1,\n",
       "  'in-memory database': 1,\n",
       "  'iphone': 1,\n",
       "  'itertools': 1,\n",
       "  'java': 1,\n",
       "  'javascript': 1,\n",
       "  'javascript library': 1,\n",
       "  'jinja2': 1,\n",
       "  'key-value': 1,\n",
       "  'languages': 1,\n",
       "  'latex': 1,\n",
       "  'log management': 1,\n",
       "  'logserver': 1,\n",
       "  'logstash': 1,\n",
       "  'lsa': 1,\n",
       "  'lua': 2,\n",
       "  'magic methods': 1,\n",
       "  'mixin': 1,\n",
       "  'mock': 1,\n",
       "  'mongodb': 1,\n",
       "  'multithreading': 1,\n",
       "  'mysql': 1,\n",
       "  'neo4j': 1,\n",
       "  'new project': 1,\n",
       "  'nginx': 1,\n",
       "  'nosql': 5,\n",
       "  'numpy': 1,\n",
       "  'oop': 2,\n",
       "  'opencv': 1,\n",
       "  'openremote': 1,\n",
       "  'parsing': 1,\n",
       "  'pdb': 1,\n",
       "  'php': 2,\n",
       "  'php sphinxapi': 1,\n",
       "  'pika': 1,\n",
       "  'processing': 1,\n",
       "  'push': 1,\n",
       "  'pybrain': 1,\n",
       "  'python': 29,\n",
       "  'python-sphinx': 1,\n",
       "  'python3': 1,\n",
       "  'rabbitmq': 1,\n",
       "  'raspberry pi': 1,\n",
       "  'razberry': 1,\n",
       "  'rds': 1,\n",
       "  're': 2,\n",
       "  'redis': 2,\n",
       "  'regexp': 2,\n",
       "  'regular expressions': 2,\n",
       "  'rollingcurl': 1,\n",
       "  'route53': 1,\n",
       "  's3': 1,\n",
       "  'search engine': 1,\n",
       "  'ses': 1,\n",
       "  'softcraft': 1,\n",
       "  'sphinx': 1,\n",
       "  'sphinx search': 1,\n",
       "  'sphinx поиск': 1,\n",
       "  'sphinxsearch': 1,\n",
       "  'sqs': 1,\n",
       "  'stackoverflow': 1,\n",
       "  'step-by-step': 2,\n",
       "  'stunnel': 1,\n",
       "  'syslog-ng': 1,\n",
       "  'tarantool': 2,\n",
       "  'tdd': 1,\n",
       "  'tecdoc': 1,\n",
       "  'testing': 1,\n",
       "  'tex': 1,\n",
       "  'text mining': 1,\n",
       "  'textwrap': 1,\n",
       "  'timezone': 1,\n",
       "  'timezones': 1,\n",
       "  'tips and tricks': 1,\n",
       "  'tkinter': 1,\n",
       "  'travis-ci': 1,\n",
       "  'tutorial': 2,\n",
       "  'unit testing': 1,\n",
       "  'uwsgi': 1,\n",
       "  'virtualenv': 1,\n",
       "  'visualization': 1,\n",
       "  'vk.com': 1,\n",
       "  'work': 1,\n",
       "  'workflow': 1,\n",
       "  'yield': 1,\n",
       "  'z-wave': 1,\n",
       "  'алгоритмы': 1,\n",
       "  'амазон': 1,\n",
       "  'анализ данных': 1,\n",
       "  'аффинный шифр': 1,\n",
       "  'вебкамера': 1,\n",
       "  'видео': 1,\n",
       "  'визуализация': 1,\n",
       "  'визуализация данных': 1,\n",
       "  'время': 1,\n",
       "  'вычисления': 1,\n",
       "  'генератор': 2,\n",
       "  'граф социальной сети': 1,\n",
       "  'графики': 1,\n",
       "  'графовые бд': 1,\n",
       "  'данные': 1,\n",
       "  'декораторы': 2,\n",
       "  'демонстрация': 1,\n",
       "  'дескриптор': 1,\n",
       "  'дескрипторы': 1,\n",
       "  'диплом': 1,\n",
       "  'дипломная работа': 1,\n",
       "  'документация': 1,\n",
       "  'друзья': 1,\n",
       "  'закон': 1,\n",
       "  'захват': 1,\n",
       "  'инвестиции': 1,\n",
       "  'как сложно жить': 1,\n",
       "  'кластеризация': 1,\n",
       "  'книги': 1,\n",
       "  'кнопки': 1,\n",
       "  'контакты': 1,\n",
       "  'летнее время': 1,\n",
       "  'массивы': 1,\n",
       "  'машинное обучение': 1,\n",
       "  'многопоточное программирование': 1,\n",
       "  'мультипликативный шифр': 1,\n",
       "  'нейронные сети': 1,\n",
       "  'непрерывная интеграция': 1,\n",
       "  'обучение': 1,\n",
       "  'опросники': 1,\n",
       "  'осипов': 1,\n",
       "  'отправка сообщений': 1,\n",
       "  'перевод': 1,\n",
       "  'питон': 2,\n",
       "  'поиск': 2,\n",
       "  'полнотекстовый поиск': 1,\n",
       "  'право': 1,\n",
       "  'прелоадер': 1,\n",
       "  'программирование': 2,\n",
       "  'программированние для чайников': 1,\n",
       "  'протокол дескрипторов': 1,\n",
       "  'разработка': 1,\n",
       "  'регулярные выражения': 3,\n",
       "  'рисование графиков': 1,\n",
       "  'сервисы': 1,\n",
       "  'системное администрирование': 1,\n",
       "  'смс-рассылки': 1,\n",
       "  'смс-реклама': 1,\n",
       "  'советы начинающим': 1,\n",
       "  'социальные сети': 1,\n",
       "  'стартапы': 1,\n",
       "  'структуры данных': 1,\n",
       "  'тарантул': 1,\n",
       "  'теплокарта': 1,\n",
       "  'тестирование': 1,\n",
       "  'тестирование сайтов': 1,\n",
       "  'топик-ссылка': 1,\n",
       "  'учебник': 1,\n",
       "  'финансирование': 1,\n",
       "  'часовые пояса': 1,\n",
       "  'чат': 1,\n",
       "  'шифр виженера': 1,\n",
       "  'шифр перестановки': 1,\n",
       "  'шифр простой замены': 1,\n",
       "  'шифр цезаря': 1,\n",
       "  'шпаргалки': 1,\n",
       "  'яндекс': 1},\n",
       " {'ahoba': 1,\n",
       "  'amazon aws': 1,\n",
       "  'amqp': 1,\n",
       "  'android': 1,\n",
       "  'android development': 1,\n",
       "  'api': 1,\n",
       "  'api яндекс.карт': 1,\n",
       "  'arduino': 1,\n",
       "  'async': 1,\n",
       "  'asynchronous i/o': 1,\n",
       "  'avito': 1,\n",
       "  'backpropagation': 1,\n",
       "  'ban-time-incr': 1,\n",
       "  'bash': 1,\n",
       "  'big data': 1,\n",
       "  'byteplay': 1,\n",
       "  'chrome': 1,\n",
       "  'clonedigger': 1,\n",
       "  'code review': 1,\n",
       "  'continuous integration': 1,\n",
       "  'coro': 1,\n",
       "  'coroutines': 1,\n",
       "  'coworking': 1,\n",
       "  'cpmoptimize': 1,\n",
       "  'd-триггер': 1,\n",
       "  'data mining': 1,\n",
       "  'debian': 1,\n",
       "  'django': 10,\n",
       "  'docker': 2,\n",
       "  'effective django': 1,\n",
       "  'elasticsearch': 1,\n",
       "  'email маркетинг': 1,\n",
       "  'etlua': 1,\n",
       "  'excel': 1,\n",
       "  'fail2ban': 1,\n",
       "  'ffmpeg': 1,\n",
       "  'flash': 1,\n",
       "  'futures': 1,\n",
       "  'game development': 1,\n",
       "  'gamedev': 1,\n",
       "  'gcm': 1,\n",
       "  'gil': 1,\n",
       "  'github': 1,\n",
       "  'go': 1,\n",
       "  'google': 2,\n",
       "  'google cloud messaging': 1,\n",
       "  'green threads': 1,\n",
       "  'gridfs': 1,\n",
       "  'guilp.js': 1,\n",
       "  'https': 1,\n",
       "  'imagemagick': 1,\n",
       "  'infoboxcloud': 2,\n",
       "  'ip-камера': 1,\n",
       "  'javascript': 2,\n",
       "  'jenkins': 1,\n",
       "  'kickstarter': 1,\n",
       "  'lapis': 1,\n",
       "  'lean startup': 1,\n",
       "  'linux': 1,\n",
       "  'lua': 1,\n",
       "  'luajit': 1,\n",
       "  'mac os x': 1,\n",
       "  'map': 1,\n",
       "  'matplotlib': 1,\n",
       "  'maveriks': 1,\n",
       "  'mongodb': 3,\n",
       "  'moonscript': 1,\n",
       "  'nand gate': 1,\n",
       "  'nathan yergler': 1,\n",
       "  'nginx': 6,\n",
       "  'nginx-rtmp-module': 1,\n",
       "  'node.js': 1,\n",
       "  'nonblocking i/o': 1,\n",
       "  'numpy': 2,\n",
       "  'open graph': 1,\n",
       "  'open source': 2,\n",
       "  'openresty': 1,\n",
       "  'openssl': 1,\n",
       "  'pandas': 4,\n",
       "  'pika': 1,\n",
       "  'profiling': 4,\n",
       "  'push notifications': 1,\n",
       "  'pushbullet': 1,\n",
       "  'pygame': 1,\n",
       "  'pygtk': 1,\n",
       "  'pyqt4': 1,\n",
       "  'python': 22,\n",
       "  'python3': 1,\n",
       "  'pythonic': 1,\n",
       "  'r': 1,\n",
       "  'rabbitmq': 1,\n",
       "  'radon': 1,\n",
       "  'redis': 2,\n",
       "  'reverse engineering': 1,\n",
       "  'rpc': 1,\n",
       "  'rspec': 1,\n",
       "  'rtmp': 1,\n",
       "  'rtsp': 1,\n",
       "  'ruby': 1,\n",
       "  'ryan oldenburg': 1,\n",
       "  'sailor moon': 1,\n",
       "  'schema.org': 1,\n",
       "  'scipy': 3,\n",
       "  'simple cpu': 1,\n",
       "  'sklearn': 1,\n",
       "  'smalltalk': 1,\n",
       "  'snakefood': 1,\n",
       "  'sobnik': 1,\n",
       "  'ssl': 1,\n",
       "  'ssllabs': 1,\n",
       "  'stackless': 1,\n",
       "  'startssl': 1,\n",
       "  'sublime': 1,\n",
       "  'sublime plugin': 1,\n",
       "  'sublime text': 1,\n",
       "  'teamwork': 1,\n",
       "  'threads': 1,\n",
       "  'tkinter': 1,\n",
       "  'tornado': 2,\n",
       "  'trading software; forex; python 2.7': 1,\n",
       "  'travis': 1,\n",
       "  'twisted': 1,\n",
       "  'ui': 1,\n",
       "  'uwsgi': 1,\n",
       "  'vba': 1,\n",
       "  'vim': 2,\n",
       "  'vimrc': 1,\n",
       "  'vimscript': 1,\n",
       "  'vincent': 1,\n",
       "  'wargaming': 1,\n",
       "  'wargaming.net': 1,\n",
       "  'wargaming_inside': 1,\n",
       "  'wearable': 1,\n",
       "  'web starter kit': 1,\n",
       "  'web-дизайн': 1,\n",
       "  'web-разработка': 1,\n",
       "  'whiteboardcleaner': 1,\n",
       "  'windows': 1,\n",
       "  'wxpython': 1,\n",
       "  'адаптивный дизайн': 1,\n",
       "  'алгоритмы': 3,\n",
       "  'аналитика': 1,\n",
       "  'английский язык': 1,\n",
       "  'англия': 1,\n",
       "  'антикафе': 1,\n",
       "  'асимптотика': 1,\n",
       "  'байт-код': 1,\n",
       "  'бизнес': 2,\n",
       "  'бизнес-модель': 1,\n",
       "  'бинарное счисление': 1,\n",
       "  'быстрая сортировка': 1,\n",
       "  'веб': 1,\n",
       "  'веб-дизайн': 1,\n",
       "  'веб-приложение': 1,\n",
       "  'веб-прокси': 1,\n",
       "  'веб-разработка': 1,\n",
       "  'веб-сервер': 1,\n",
       "  'визуализация': 1,\n",
       "  'возможности': 1,\n",
       "  'декораторы': 1,\n",
       "  'деловая переписка': 1,\n",
       "  'деловой этикет': 1,\n",
       "  'дизассемблирование': 1,\n",
       "  'задачи': 1,\n",
       "  'идея': 1,\n",
       "  'излучение': 1,\n",
       "  'инновации': 1,\n",
       "  'интеграция': 1,\n",
       "  'интересности&полезности': 1,\n",
       "  'интернационализация': 1,\n",
       "  'инфографика': 1,\n",
       "  'клавиатура': 1,\n",
       "  'кластерный анализ': 1,\n",
       "  'книги по программированию': 1,\n",
       "  'коллекции': 1,\n",
       "  'команда': 1,\n",
       "  'компания в сша': 1,\n",
       "  'конкретно вы прочитали теги': 1,\n",
       "  'контейнерная виртуализация': 2,\n",
       "  'контейнеры': 1,\n",
       "  'копипастинг': 1,\n",
       "  'котята': 1,\n",
       "  'краудфандинг': 1,\n",
       "  'кэш': 1,\n",
       "  'кэширование запросов': 1,\n",
       "  'локализация': 1,\n",
       "  'малый шад': 1,\n",
       "  'матрицы': 1,\n",
       "  'машинное обучение': 1,\n",
       "  'менторы': 1,\n",
       "  'микроволновка': 1,\n",
       "  'микроконтроллеры': 1,\n",
       "  'микроразметка': 1,\n",
       "  'микроформаты': 1,\n",
       "  'многопоточность': 1,\n",
       "  'мобильные приложения': 1,\n",
       "  'мотивация': 1,\n",
       "  'моцарт': 1,\n",
       "  'музыка': 1,\n",
       "  'набор инструкций': 1,\n",
       "  'нейронные сети': 1,\n",
       "  'никто не читает теги': 1,\n",
       "  'носимая электроника': 1,\n",
       "  'обзор техники': 1,\n",
       "  'образование': 1,\n",
       "  'образование 2.0': 1,\n",
       "  'обучение': 2,\n",
       "  'обучение нейронных сетей': 1,\n",
       "  'оптимизация': 2,\n",
       "  'опыт': 1,\n",
       "  'организация кода': 1,\n",
       "  'оружие': 1,\n",
       "  'основатели': 1,\n",
       "  'пентест': 1,\n",
       "  'перевод': 1,\n",
       "  'переносимость': 1,\n",
       "  'поиск': 2,\n",
       "  'поиск единомышленников': 1,\n",
       "  'программирование': 1,\n",
       "  'производительность': 1,\n",
       "  'промо-сайт': 1,\n",
       "  'рассылки': 1,\n",
       "  'риэлторы': 1,\n",
       "  'ролик': 1,\n",
       "  'сайт на lua': 1,\n",
       "  'свое дело': 1,\n",
       "  'свч': 1,\n",
       "  'сделай сам': 1,\n",
       "  'собеседования': 1,\n",
       "  'сопрограммы': 1,\n",
       "  'стартап': 2,\n",
       "  'стартапы': 4,\n",
       "  'статистика': 1,\n",
       "  'структуры данных': 1,\n",
       "  'студенческие проекты': 1,\n",
       "  'сша': 1,\n",
       "  'толстые модели': 1,\n",
       "  'трафик irl из сети': 1,\n",
       "  'трекер физической активности': 1,\n",
       "  'трюк': 1,\n",
       "  'трюки': 1,\n",
       "  'управление командой': 1,\n",
       "  'уязвимость': 1,\n",
       "  'хакатоны': 1,\n",
       "  'цпу': 1,\n",
       "  'чайпей': 1,\n",
       "  'чтение мыслей': 1,\n",
       "  'шад': 1,\n",
       "  'штрих шеффера': 1,\n",
       "  'этика делового общения': 1,\n",
       "  'это было круто': 1,\n",
       "  'эффективный django': 1,\n",
       "  'юридические вопросы': 1,\n",
       "  'языки мира': 1,\n",
       "  'яндекс': 2,\n",
       "  'яндекс.карты': 1},\n",
       " {'3g': 1,\n",
       "  '8bit cpu': 1,\n",
       "  'android': 1,\n",
       "  'android development': 1,\n",
       "  'ansible': 1,\n",
       "  'api': 5,\n",
       "  'api vk': 1,\n",
       "  'arduino': 1,\n",
       "  'asyncio': 1,\n",
       "  'authentication': 1,\n",
       "  'autorization': 1,\n",
       "  'backend': 1,\n",
       "  'big data': 2,\n",
       "  'bootstrap': 2,\n",
       "  'bot': 2,\n",
       "  'bots': 1,\n",
       "  'bots api': 1,\n",
       "  'c++': 1,\n",
       "  'cache': 1,\n",
       "  'centos': 1,\n",
       "  'corezoid': 1,\n",
       "  'cpu': 1,\n",
       "  'css': 2,\n",
       "  'data mining': 3,\n",
       "  'dataart': 2,\n",
       "  'ddos': 1,\n",
       "  'debian': 1,\n",
       "  'devconf': 1,\n",
       "  'devops': 1,\n",
       "  'dict': 1,\n",
       "  'diy': 1,\n",
       "  'diy или сделай сам': 2,\n",
       "  'django': 2,\n",
       "  'django meetup': 1,\n",
       "  'docker': 2,\n",
       "  'effective django': 1,\n",
       "  'erlang': 1,\n",
       "  'execute': 1,\n",
       "  'fail2ban': 1,\n",
       "  'flask': 1,\n",
       "  'fluentd': 1,\n",
       "  'forbes': 1,\n",
       "  'frontend': 1,\n",
       "  'gcm': 1,\n",
       "  'geo': 1,\n",
       "  'gephi': 1,\n",
       "  'gevent': 1,\n",
       "  'google': 1,\n",
       "  'google cloud messaging': 1,\n",
       "  'google voice': 1,\n",
       "  'gui': 1,\n",
       "  'hackday': 1,\n",
       "  'harvest': 1,\n",
       "  'hash': 1,\n",
       "  'heartbeat': 1,\n",
       "  'high performance': 1,\n",
       "  'highload': 2,\n",
       "  'howto': 1,\n",
       "  'html': 1,\n",
       "  'http headers': 1,\n",
       "  'http заголовки': 1,\n",
       "  'inpainting': 1,\n",
       "  'instafeed': 1,\n",
       "  'instagram': 1,\n",
       "  'ios': 1,\n",
       "  'javascript': 2,\n",
       "  'javascript meetup': 1,\n",
       "  'kubish.ru': 1,\n",
       "  'linux': 1,\n",
       "  'lua': 3,\n",
       "  'machine learning': 3,\n",
       "  'mail.ru': 4,\n",
       "  'meetup': 2,\n",
       "  'memcached': 1,\n",
       "  'microservices': 1,\n",
       "  'minecraft': 1,\n",
       "  'monengine': 1,\n",
       "  'mongodb': 1,\n",
       "  'mysql': 1,\n",
       "  'nathan yergler': 1,\n",
       "  'nginx': 3,\n",
       "  'node.js': 1,\n",
       "  'nominatim': 1,\n",
       "  'nosql': 3,\n",
       "  'open source': 1,\n",
       "  'opencv': 1,\n",
       "  'openstack': 1,\n",
       "  'ops': 1,\n",
       "  'pagespeed': 1,\n",
       "  'perl.': 1,\n",
       "  'phdays': 1,\n",
       "  'php': 1,\n",
       "  'php-fpm': 1,\n",
       "  'portfolio': 1,\n",
       "  'postgresql': 1,\n",
       "  'push': 1,\n",
       "  'pushall': 1,\n",
       "  'python': 18,\n",
       "  'python ast': 1,\n",
       "  'python meetup': 2,\n",
       "  'python2': 1,\n",
       "  'python2.7': 1,\n",
       "  'python3': 3,\n",
       "  'pytnon': 1,\n",
       "  'raspberry': 1,\n",
       "  'raspberry pi': 1,\n",
       "  'redis': 1,\n",
       "  's.o.l.i.d.': 1,\n",
       "  'salt': 1,\n",
       "  'scikit-learn': 1,\n",
       "  'security': 1,\n",
       "  'selectel': 1,\n",
       "  'sms': 1,\n",
       "  'social network analysis': 1,\n",
       "  'sqli': 1,\n",
       "  'stack frame': 1,\n",
       "  'start up': 1,\n",
       "  'swift': 1,\n",
       "  'tarantool': 3,\n",
       "  'tceh': 1,\n",
       "  'telegram': 6,\n",
       "  'throttling': 1,\n",
       "  'twofish': 1,\n",
       "  'ui': 1,\n",
       "  'vds': 1,\n",
       "  'verilog': 1,\n",
       "  'vhdl': 1,\n",
       "  'vk': 1,\n",
       "  'what3words': 1,\n",
       "  'wi-fi': 1,\n",
       "  'wolfram': 1,\n",
       "  'wolfram language': 1,\n",
       "  'wolfram mathematica': 1,\n",
       "  'world of tanks': 1,\n",
       "  'xcode': 1,\n",
       "  'автоматизация тестирования': 1,\n",
       "  'алгоритм': 2,\n",
       "  'алгоритмы': 1,\n",
       "  'анализ логов': 1,\n",
       "  'анонс': 1,\n",
       "  'апи': 1,\n",
       "  'архитектура': 1,\n",
       "  'архитектура приложений': 1,\n",
       "  'ассемблер mips': 1,\n",
       "  'безопасность': 1,\n",
       "  'бизнес': 1,\n",
       "  'бот': 1,\n",
       "  'боты': 2,\n",
       "  'бэктестинг': 1,\n",
       "  'бэкэнд': 1,\n",
       "  'ван гог': 1,\n",
       "  'введение': 1,\n",
       "  'веб-дизайн': 1,\n",
       "  'веб-сайт': 1,\n",
       "  'видео': 1,\n",
       "  'виртуализация сетевых функций': 1,\n",
       "  'виртуальный сервер': 1,\n",
       "  'геокодирование': 1,\n",
       "  'голосовое управление': 1,\n",
       "  'графика': 1,\n",
       "  'графы': 1,\n",
       "  'графы и визуализация': 1,\n",
       "  'звездная ночь': 1,\n",
       "  'идеальный код': 1,\n",
       "  'инвестиции': 1,\n",
       "  'инструменты': 1,\n",
       "  'интернет': 1,\n",
       "  'кластер': 1,\n",
       "  'кластеризация': 1,\n",
       "  'книги': 1,\n",
       "  'книги по программированию': 1,\n",
       "  'коллизии': 1,\n",
       "  'компьютерное зрение': 1,\n",
       "  'конференция': 1,\n",
       "  'конференция веб-разработчиков': 1,\n",
       "  'корезоид': 1,\n",
       "  'кэш': 1,\n",
       "  'кэширование': 1,\n",
       "  'лекции технопарка': 1,\n",
       "  'лекции техносферы': 2,\n",
       "  'лицензии': 1,\n",
       "  'луа': 1,\n",
       "  'математика': 1,\n",
       "  'микроархитектура': 1,\n",
       "  'микроконтроллеры pic32': 1,\n",
       "  'микросервисы': 1,\n",
       "  'минск': 2,\n",
       "  'митапы': 1,\n",
       "  'мобильная разработка': 2,\n",
       "  'мобильные устройства': 2,\n",
       "  'настройка': 1,\n",
       "  'недвижимость': 1,\n",
       "  'ненормальное программирование': 1,\n",
       "  'обработка речи': 1,\n",
       "  'ооп': 1,\n",
       "  'оптимизация изображений': 1,\n",
       "  'отказоустойчивость': 1,\n",
       "  'отказоустойчивые системы': 1,\n",
       "  'отказоустойчивый ip': 1,\n",
       "  'отказоустойчивый кластер': 1,\n",
       "  'оформление кода': 1,\n",
       "  'парсинг контента': 1,\n",
       "  'перевод': 1,\n",
       "  'поисковые алгоритмы': 3,\n",
       "  'поисковые системы': 2,\n",
       "  'поисковые технологии': 3,\n",
       "  'поисковый движок': 1,\n",
       "  'помехи': 1,\n",
       "  'программирование': 1,\n",
       "  'продуктивность': 1,\n",
       "  'проекты': 1,\n",
       "  'процесс': 1,\n",
       "  'разработка': 1,\n",
       "  'разрешение': 1,\n",
       "  'реализация': 1,\n",
       "  'регистрация ооо': 1,\n",
       "  'сбор логов': 1,\n",
       "  'сборка': 1,\n",
       "  'селектел': 1,\n",
       "  'системное администрирование': 2,\n",
       "  'словарь': 1,\n",
       "  'создание бизнеса': 1,\n",
       "  'социальные сети': 1,\n",
       "  'список': 1,\n",
       "  'стартап': 2,\n",
       "  'стили программирования': 1,\n",
       "  'схемотехника': 1,\n",
       "  'такси': 1,\n",
       "  'телеграм': 2,\n",
       "  'тестирование': 2,\n",
       "  'тестирование в яндексе': 1,\n",
       "  'технопарк': 1,\n",
       "  'техносфера': 2,\n",
       "  'техподдержка жуть': 1,\n",
       "  'торговые роботы': 1,\n",
       "  'торговые стратегии': 1,\n",
       "  'участники группы': 1,\n",
       "  'фон': 1,\n",
       "  'фон нейман': 1,\n",
       "  'фондовый рынок': 1,\n",
       "  'форматирование кода': 1,\n",
       "  'хакатоны': 1,\n",
       "  'хеш': 1,\n",
       "  'хостинг': 1,\n",
       "  'хэш': 1,\n",
       "  'шаблон': 1,\n",
       "  'школы яндекса': 1,\n",
       "  'шпд': 1,\n",
       "  'эффективный django': 1,\n",
       "  'яндекс.деньги': 1,\n",
       "  'яндекс.касса': 1},\n",
       " {'aa': 1,\n",
       "  'aaa': 1,\n",
       "  'aes': 1,\n",
       "  'algorithms': 1,\n",
       "  'anti-rdbms': 1,\n",
       "  'api': 1,\n",
       "  'apps4all': 1,\n",
       "  'async': 1,\n",
       "  'asyncio': 2,\n",
       "  'await': 1,\n",
       "  'awaitable': 1,\n",
       "  'awk': 1,\n",
       "  'aws': 1,\n",
       "  'azure': 1,\n",
       "  'bdd': 1,\n",
       "  'best practices': 1,\n",
       "  'big data': 2,\n",
       "  'bluemix': 1,\n",
       "  'bots': 1,\n",
       "  'bots api': 1,\n",
       "  'brand analytics': 1,\n",
       "  'cache': 1,\n",
       "  'cbv': 1,\n",
       "  'celery': 1,\n",
       "  'channels': 1,\n",
       "  'class based view': 1,\n",
       "  'client caching': 1,\n",
       "  'clustering': 1,\n",
       "  'code kata': 1,\n",
       "  'coderetreat': 1,\n",
       "  'coding dojo': 1,\n",
       "  'community detection': 1,\n",
       "  'config': 1,\n",
       "  'coroutine': 1,\n",
       "  'coursera': 1,\n",
       "  'data science': 1,\n",
       "  'diy или сделай сам': 1,\n",
       "  'django': 2,\n",
       "  'django admin': 1,\n",
       "  'django framework': 1,\n",
       "  'ebs': 1,\n",
       "  'ec2': 1,\n",
       "  'edison': 1,\n",
       "  'event dispatcher': 1,\n",
       "  'event loop': 1,\n",
       "  'event-driven': 1,\n",
       "  'facebook': 1,\n",
       "  'flockdb': 1,\n",
       "  'front-end': 1,\n",
       "  'git': 2,\n",
       "  'graph database': 1,\n",
       "  'graphs': 1,\n",
       "  'grep': 1,\n",
       "  'gsm': 1,\n",
       "  'hadoop': 2,\n",
       "  'highload': 1,\n",
       "  'hosting': 1,\n",
       "  'http': 2,\n",
       "  'ibm watson': 1,\n",
       "  'ifttt': 1,\n",
       "  'image preview': 1,\n",
       "  'image resize': 1,\n",
       "  'indiegogo': 1,\n",
       "  'instagram': 1,\n",
       "  'iot хакатон': 1,\n",
       "  'ipython': 1,\n",
       "  'it-grad': 2,\n",
       "  'javascript': 2,\n",
       "  'k-medoids': 1,\n",
       "  'key-value': 1,\n",
       "  'killer': 1,\n",
       "  'linux': 1,\n",
       "  'livejournal': 1,\n",
       "  'lua': 2,\n",
       "  'lua-nginx-module': 1,\n",
       "  'machine learning': 1,\n",
       "  'map redue': 1,\n",
       "  'mapreduce': 1,\n",
       "  'meetup': 1,\n",
       "  'memcached': 1,\n",
       "  'memcachedb': 1,\n",
       "  'microsoft': 1,\n",
       "  'mppt': 1,\n",
       "  'nginx': 5,\n",
       "  'nimh': 1,\n",
       "  'nosql': 2,\n",
       "  'pandas': 1,\n",
       "  'partial caching': 1,\n",
       "  'phpmorphy': 1,\n",
       "  'powerbank': 1,\n",
       "  'pycrypto': 1,\n",
       "  'pytest': 1,\n",
       "  'python': 11,\n",
       "  'python 2.7': 1,\n",
       "  'python 3.5': 1,\n",
       "  'python meetup': 1,\n",
       "  'python3': 2,\n",
       "  'raml': 1,\n",
       "  'redis': 2,\n",
       "  'rest': 2,\n",
       "  'restful': 2,\n",
       "  'rsa': 1,\n",
       "  's3': 1,\n",
       "  'seaborn': 1,\n",
       "  'selectel': 1,\n",
       "  'shell scripting': 1,\n",
       "  'sim': 1,\n",
       "  'sna': 1,\n",
       "  'sqlite4': 1,\n",
       "  'ssi': 1,\n",
       "  'stackoverflow': 1,\n",
       "  'stackoverflow на русском': 1,\n",
       "  'stackoverflow.com не помог': 1,\n",
       "  'svn': 1,\n",
       "  'telegram': 2,\n",
       "  'testing': 1,\n",
       "  'tns': 1,\n",
       "  'tornado': 1,\n",
       "  'trackingpoint': 1,\n",
       "  'twitter': 2,\n",
       "  'usb': 1,\n",
       "  'vk': 1,\n",
       "  'vk api': 1,\n",
       "  'vkontakte': 1,\n",
       "  'voximplant': 1,\n",
       "  'web': 2,\n",
       "  'web-разработка': 1,\n",
       "  'wrk': 1,\n",
       "  'автономная система': 1,\n",
       "  'адрес для почты': 1,\n",
       "  'адрес по фиас': 1,\n",
       "  'аккумулятор': 2,\n",
       "  'аккумуляторные батареи': 1,\n",
       "  'аккумуляторы': 1,\n",
       "  'алгоритмы': 1,\n",
       "  'анализ данных': 1,\n",
       "  'анализ личности': 1,\n",
       "  'аналитика': 1,\n",
       "  'архитектура': 1,\n",
       "  'база данных': 1,\n",
       "  'базовые понятия': 1,\n",
       "  'базы данных': 1,\n",
       "  'банка': 1,\n",
       "  'без кдпв': 1,\n",
       "  'бесплатно': 1,\n",
       "  'бизнес': 1,\n",
       "  'бизнес студии': 1,\n",
       "  'блочное кеширование': 1,\n",
       "  'боты': 1,\n",
       "  'веб': 1,\n",
       "  'веб-программироваине': 1,\n",
       "  'веб-сервисы': 1,\n",
       "  'вконтакте': 3,\n",
       "  'внешний аккумулятор': 1,\n",
       "  'гвозди': 1,\n",
       "  'граф': 1,\n",
       "  'графики': 1,\n",
       "  'деньги': 1,\n",
       "  'диабет': 1,\n",
       "  'дизайн': 2,\n",
       "  'екатеринбург': 1,\n",
       "  'жара.': 1,\n",
       "  'железо': 1,\n",
       "  'зажигалка': 1,\n",
       "  'защита': 1,\n",
       "  'здравый смысл': 1,\n",
       "  'инвертор': 1,\n",
       "  'инстаграм': 1,\n",
       "  'инструменты': 1,\n",
       "  'интернет': 1,\n",
       "  'интернет вещей': 1,\n",
       "  'интерфейсы': 1,\n",
       "  'ит-град': 2,\n",
       "  'карьера': 2,\n",
       "  'кеш': 1,\n",
       "  'книги': 2,\n",
       "  'конференция': 1,\n",
       "  'красавец': 1,\n",
       "  'краудфандинг': 1,\n",
       "  'криптография': 1,\n",
       "  'лингвистика': 1,\n",
       "  'литература': 1,\n",
       "  'мап': 1,\n",
       "  'машинное обучение': 1,\n",
       "  'микроарт': 1,\n",
       "  'микроконтроллеры': 1,\n",
       "  'микроскопы': 1,\n",
       "  'мой мир': 1,\n",
       "  'морфология': 1,\n",
       "  'мысли вслух': 1,\n",
       "  'настройка': 1,\n",
       "  'нейронная сеть': 1,\n",
       "  'ненормальное программирование': 1,\n",
       "  'нехороший человек': 1,\n",
       "  'новинки': 1,\n",
       "  'новости': 1,\n",
       "  'облачные технологии': 1,\n",
       "  'обмен веществ': 1,\n",
       "  'огнемет': 1,\n",
       "  'огнемет для самообороны': 1,\n",
       "  'огонь': 1,\n",
       "  'одноклассники': 1,\n",
       "  'ожирение': 1,\n",
       "  'оптимизация': 1,\n",
       "  'опыт': 1,\n",
       "  'пивка нахаляву': 1,\n",
       "  'почтовые адреса': 1,\n",
       "  'прогнозы': 1,\n",
       "  'программирование': 1,\n",
       "  'производительность': 1,\n",
       "  'профессия': 1,\n",
       "  'процессы': 1,\n",
       "  'работа с программистами': 1,\n",
       "  'развлечения': 1,\n",
       "  'разработка': 3,\n",
       "  'район города': 1,\n",
       "  'регулярные выражения': 1,\n",
       "  'редиска': 1,\n",
       "  'ресурсы для разработчиков': 1,\n",
       "  'руководство': 1,\n",
       "  'сахар': 1,\n",
       "  'секс': 1,\n",
       "  'селектел': 1,\n",
       "  'серверный javascript': 1,\n",
       "  'сжечь': 1,\n",
       "  'советы': 1,\n",
       "  'советы и рекомендации': 1,\n",
       "  'солнечная батарея': 1,\n",
       "  'солнечная энергетика': 1,\n",
       "  'солнечный контроллер': 1,\n",
       "  'социальная инженерия': 1,\n",
       "  'социальные сети': 2,\n",
       "  'список': 1,\n",
       "  'стартап': 1,\n",
       "  'стартапы': 2,\n",
       "  'твиттер': 1,\n",
       "  'телеграм': 1,\n",
       "  'тестирование': 1,\n",
       "  'техническая поддержка': 1,\n",
       "  'технопарки': 1,\n",
       "  'тренды': 1,\n",
       "  'тюнинг': 1,\n",
       "  'убить': 1,\n",
       "  'умная винтовка': 1,\n",
       "  'управление проектами': 3,\n",
       "  'финансирование': 1,\n",
       "  'финансы': 1,\n",
       "  'флешка': 1,\n",
       "  'хакатон': 3,\n",
       "  'шифрование': 1,\n",
       "  'электронная подпись': 1,\n",
       "  'яндекс': 1}]"
      ]
     },
     "execution_count": 54,
     "metadata": {},
     "output_type": "execute_result"
    }
   ],
   "source": [
    "# tags"
   ]
  },
  {
   "cell_type": "code",
   "execution_count": 55,
   "metadata": {
    "collapsed": true,
    "slideshow": {
     "slide_type": "subslide"
    }
   },
   "outputs": [],
   "source": [
    "from collections import Counter\n",
    "from functools import reduce\n",
    "from operator import add\n",
    "\n",
    "new_tags = dict(reduce(add, (Counter(tag) for tag in tags)))"
   ]
  },
  {
   "cell_type": "code",
   "execution_count": 56,
   "metadata": {
    "collapsed": false,
    "slideshow": {
     "slide_type": "fragment"
    }
   },
   "outputs": [
    {
     "data": {
      "text/plain": [
       "827"
      ]
     },
     "execution_count": 56,
     "metadata": {},
     "output_type": "execute_result"
    }
   ],
   "source": [
    "len(new_tags.keys())"
   ]
  },
  {
   "cell_type": "code",
   "execution_count": null,
   "metadata": {
    "collapsed": false,
    "slideshow": {
     "slide_type": "fragment"
    }
   },
   "outputs": [],
   "source": [
    "from wordcloud import WordCloud\n",
    "\n",
    "wordcloud = WordCloud(width=1920, height=1080, scale=1, \n",
    "                      font_path='/Library/Fonts/Verdana.ttf',\n",
    "                      max_words=len(new_tags.keys()))\n",
    "\n",
    "wordcloud.generate_from_frequencies(new_tags.items())"
   ]
  },
  {
   "cell_type": "code",
   "execution_count": null,
   "metadata": {
    "collapsed": false,
    "slideshow": {
     "slide_type": "subslide"
    }
   },
   "outputs": [],
   "source": [
    "plt.imshow(wordcloud)\n",
    "plt.axis(\"off\")\n",
    "plt.show()\n",
    "wordcloud.to_file('test.png')"
   ]
  },
  {
   "cell_type": "markdown",
   "metadata": {
    "slideshow": {
     "slide_type": "fragment"
    }
   },
   "source": [
    "![Mine wordcloud](test.png)"
   ]
  },
  {
   "cell_type": "code",
   "execution_count": null,
   "metadata": {
    "collapsed": false,
    "slideshow": {
     "slide_type": "fragment"
    }
   },
   "outputs": [],
   "source": [
    "! ipcluster stop"
   ]
  },
  {
   "cell_type": "markdown",
   "metadata": {
    "slideshow": {
     "slide_type": "slide"
    }
   },
   "source": [
    "# nbconvert"
   ]
  },
  {
   "cell_type": "markdown",
   "metadata": {
    "collapsed": true,
    "slideshow": {
     "slide_type": "fragment"
    }
   },
   "source": [
    "[https://github.com/jupyter/nbconvert](https://github.com/jupyter/nbconvert)\n",
    "\n",
    "[http://nbconvert.readthedocs.org/en/latest/usage.html](http://nbconvert.readthedocs.org/en/latest/usage.html)"
   ]
  },
  {
   "cell_type": "code",
   "execution_count": null,
   "metadata": {
    "collapsed": true,
    "slideshow": {
     "slide_type": "fragment"
    }
   },
   "outputs": [],
   "source": [
    "! jupyter nbconvert --to slides ipython.ipynb --post serve"
   ]
  },
  {
   "cell_type": "markdown",
   "metadata": {
    "slideshow": {
     "slide_type": "slide"
    }
   },
   "source": [
    "# Links\n",
    "\n",
    "- https://github.com/stleon/ipython-slides\n",
    "- https://talkpython.fm/episodes/show/44/project-jupyter-and-ipython\n",
    "- http://blog.jupyter.org/2016/01/08/notebook-4-1-release/\n",
    "- https://jupyter.readthedocs.org/en/latest/\n",
    "- https://folium.readthedocs.org/en/latest/\n",
    "- http://matplotlib.org\n",
    "- http://stanford.edu/~mwaskom/software/seaborn/\n",
    "- https://github.com/PyGithub/PyGithub\n",
    "- http://ipyparallel.readthedocs.org/en/latest/index.html"
   ]
  },
  {
   "cell_type": "markdown",
   "metadata": {
    "slideshow": {
     "slide_type": "slide"
    }
   },
   "source": [
    "# Спасибо!\n",
    "\n",
    "\n"
   ]
  }
 ],
 "metadata": {
  "celltoolbar": "Slideshow",
  "kernelspec": {
   "display_name": "Python 3",
   "language": "python",
   "name": "python3"
  },
  "language_info": {
   "codemirror_mode": {
    "name": "ipython",
    "version": 3
   },
   "file_extension": ".py",
   "mimetype": "text/x-python",
   "name": "python",
   "nbconvert_exporter": "python",
   "pygments_lexer": "ipython3",
   "version": "3.5.0"
  }
 },
 "nbformat": 4,
 "nbformat_minor": 0
}
